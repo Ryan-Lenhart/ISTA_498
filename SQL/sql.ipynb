{
 "cells": [
  {
   "cell_type": "code",
   "execution_count": 72,
   "metadata": {},
   "outputs": [],
   "source": [
    "#import statements\n",
    "import psycopg2\n",
    "from psycopg2.extras import execute_values\n",
    "from psycopg2.extras import execute_batch\n",
    "import pandas as pd, numpy as np"
   ]
  },
  {
   "cell_type": "code",
   "execution_count": 166,
   "metadata": {},
   "outputs": [],
   "source": [
    "#connect to a postgresql database\n",
    "\n",
    "#user_name: postgres\n",
    "#Password: masterpw\n",
    "\n",
    "#set up a connection to the database\n",
    "\n",
    "def get_conn_cur(): # define function name and arguments (there aren't any)\n",
    "  # Make a connection\n",
    "  conn = psycopg2.connect(\n",
    "    host=\"database-2.cwqlksfld1r8.us-east-2.rds.amazonaws.com\",\n",
    "    database=\"ISTA_498_DB\",\n",
    "    user=\"postgres\",\n",
    "    password=\"masterpw\",\n",
    "    port='5432')\n",
    "\n",
    "  cur = conn.cursor()   # Make a cursor after\n",
    "\n",
    "  return(conn, cur)   # Return both the connection and the cursor\n"
   ]
  },
  {
   "cell_type": "code",
   "execution_count": 167,
   "metadata": {},
   "outputs": [
    {
     "name": "stdout",
     "output_type": "stream",
     "text": [
      "<connection object at 0x7fd9b87e1430; dsn: 'user=postgres password=xxx dbname=ISTA_498_DB host=database-2.cwqlksfld1r8.us-east-2.rds.amazonaws.com port=5432', closed: 0>\n"
     ]
    }
   ],
   "source": [
    "#check if the connection is successful\n",
    "conn, cur = get_conn_cur()\n",
    "print(conn)"
   ]
  },
  {
   "cell_type": "code",
   "execution_count": 168,
   "metadata": {},
   "outputs": [],
   "source": [
    "#useful functions\n",
    "\n",
    "def run_query(query_string):\n",
    "\n",
    " conn, cur = get_conn_cur() # get connection and cursor\n",
    "\n",
    " cur.execute(query_string) # executing string as before\n",
    "\n",
    " my_data = cur.fetchall() # fetch query data as before\n",
    "\n",
    " # here we're extracting the 0th element for each item in cur.description\n",
    " colnames = [desc[0] for desc in cur.description]\n",
    "\n",
    " cur.close() # close\n",
    " conn.close() # close\n",
    "\n",
    " return(colnames, my_data) # return column names AND data\n",
    "\n",
    "# Column name function for checking out what's in a table\n",
    "def get_column_names(table_name): # arguement of table_name\n",
    " conn, cur = get_conn_cur() # get connection and cursor\n",
    "\n",
    " # Now select column names while inserting the table name into the WERE\n",
    " column_name_query = \"\"\"SELECT column_name FROM information_schema.columns\n",
    "    WHERE table_name = '%s' \"\"\" %table_name\n",
    "\n",
    " cur.execute(column_name_query) # exectue\n",
    " my_data = cur.fetchall() # store\n",
    "\n",
    " cur.close() # close\n",
    " conn.close() # close\n",
    "\n",
    " return(my_data) # return\n",
    "\n",
    "# Check table_names\n",
    "def get_table_names():\n",
    " conn, cur = get_conn_cur() # get connection and cursor\n",
    "\n",
    " # query to get table names\n",
    " table_name_query = \"\"\"SELECT table_name FROM information_schema.tables\n",
    "    WHERE table_schema = 'public' \"\"\"\n",
    "\n",
    " cur.execute(table_name_query) # execute\n",
    " my_data = cur.fetchall() # fetch results\n",
    "\n",
    " cur.close() #close cursor\n",
    " conn.close() # close connection\n",
    "\n",
    " return(my_data) # return your fetched results\n",
    " \n",
    "# make sql_head function\n",
    "def sql_head(table_name):\n",
    " conn, cur = get_conn_cur() # get connection and cursor\n",
    "\n",
    " # Now select column names while inserting the table name into the WERE\n",
    " head_query = \"\"\"SELECT * FROM %s LIMIT 5; \"\"\" %table_name\n",
    "\n",
    " cur.execute(head_query) # exectue\n",
    " colnames = [desc[0] for desc in cur.description] # get column names\n",
    " my_data = cur.fetchall() # store first five rows\n",
    "\n",
    " cur.close() # close\n",
    " conn.close() # close\n",
    "\n",
    " df = pd.DataFrame(data = my_data, columns = colnames) # make into df\n",
    "\n",
    " return(df) # return"
   ]
  },
  {
   "cell_type": "code",
   "execution_count": 46,
   "metadata": {},
   "outputs": [
    {
     "ename": "DuplicateTable",
     "evalue": "relation \"aday\" already exists\n",
     "output_type": "error",
     "traceback": [
      "\u001b[0;31m---------------------------------------------------------------------------\u001b[0m",
      "\u001b[0;31mDuplicateTable\u001b[0m                            Traceback (most recent call last)",
      "\u001b[1;32m/Users/ryanlenhart/Desktop/ISTA 498/SQL/sql.ipynb Cell 5\u001b[0m in \u001b[0;36m<cell line: 1>\u001b[0;34m()\u001b[0m\n\u001b[0;32m----> <a href='vscode-notebook-cell:/Users/ryanlenhart/Desktop/ISTA%20498/SQL/sql.ipynb#W4sZmlsZQ%3D%3D?line=0'>1</a>\u001b[0m cur\u001b[39m.\u001b[39;49mexecute(\u001b[39m\"\"\"\u001b[39;49m\u001b[39mCREATE TABLE aday (cloth_dec VARCHAR(255) PRIMARY KEY, price FLOAT);\u001b[39;49m\u001b[39m\"\"\"\u001b[39;49m)\n\u001b[1;32m      <a href='vscode-notebook-cell:/Users/ryanlenhart/Desktop/ISTA%20498/SQL/sql.ipynb#W4sZmlsZQ%3D%3D?line=1'>2</a>\u001b[0m cur\u001b[39m.\u001b[39mexecute(\u001b[39m\"\"\"\u001b[39m\u001b[39mCREATE TABLE shein (cloth_dec VARCHAR(255) PRIMARY KEY, price FLOAT);\u001b[39m\u001b[39m\"\"\"\u001b[39m)\n\u001b[1;32m      <a href='vscode-notebook-cell:/Users/ryanlenhart/Desktop/ISTA%20498/SQL/sql.ipynb#W4sZmlsZQ%3D%3D?line=2'>3</a>\u001b[0m cur\u001b[39m.\u001b[39mexecute(\u001b[39m\"\"\"\u001b[39m\u001b[39mCREATE TABLE thereFormation (cloth_dec VARCHAR(255) PRIMARY KEY, price FLOAT);\u001b[39m\u001b[39m\"\"\"\u001b[39m)\n",
      "\u001b[0;31mDuplicateTable\u001b[0m: relation \"aday\" already exists\n"
     ]
    }
   ],
   "source": [
    "cur.execute(\"\"\"CREATE TABLE aday (cloth_dec VARCHAR(255) PRIMARY KEY, price FLOAT);\"\"\")\n",
    "cur.execute(\"\"\"CREATE TABLE shein (cloth_dec VARCHAR(255) PRIMARY KEY, price FLOAT);\"\"\")\n",
    "cur.execute(\"\"\"CREATE TABLE thereFormation (cloth_dec VARCHAR(255) PRIMARY KEY, price FLOAT);\"\"\")\n",
    "cur.execute(\"\"\"CREATE TABLE fashionNova (cloth_dec VARCHAR(255) PRIMARY KEY, price FLOAT);\"\"\")\n",
    "cur.execute(\"\"\"CREATE TABLE khols (cloth_dec VARCHAR(255) PRIMARY KEY, price FLOAT);\"\"\")\n",
    "cur.execute(\"\"\"CREATE TABLE target (cloth_dec VARCHAR(255) PRIMARY KEY, price FLOAT);\"\"\")"
   ]
  },
  {
   "cell_type": "code",
   "execution_count": 61,
   "metadata": {},
   "outputs": [
    {
     "data": {
      "text/plain": [
       "[('aday',),\n",
       " ('shein',),\n",
       " ('thereformation',),\n",
       " ('fashionnova',),\n",
       " ('khols',),\n",
       " ('target',)]"
      ]
     },
     "execution_count": 61,
     "metadata": {},
     "output_type": "execute_result"
    }
   ],
   "source": [
    "#get list of table names\n",
    "\n",
    "get_table_names()"
   ]
  },
  {
   "cell_type": "code",
   "execution_count": 158,
   "metadata": {},
   "outputs": [],
   "source": [
    "#create dataframes for each table\n",
    "shein_df = pd.read_csv('Shein_Cleaned.csv')\n",
    "thereFormation_df = pd.read_csv('ThereFormation_Cleaned.csv')\n",
    "fashionNova_df = pd.read_csv('FashionNova_Data_clean.csv')\n",
    "aday_df = pd.read_csv('Aday_Cleaned.csv')\n",
    "target_df = pd.read_csv('Target_Data_clean.csv')\n",
    "khols_df = pd.read_csv('Khols_Data_clean.csv')"
   ]
  },
  {
   "cell_type": "code",
   "execution_count": 163,
   "metadata": {},
   "outputs": [
    {
     "data": {
      "text/html": [
       "<div>\n",
       "<style scoped>\n",
       "    .dataframe tbody tr th:only-of-type {\n",
       "        vertical-align: middle;\n",
       "    }\n",
       "\n",
       "    .dataframe tbody tr th {\n",
       "        vertical-align: top;\n",
       "    }\n",
       "\n",
       "    .dataframe thead th {\n",
       "        text-align: right;\n",
       "    }\n",
       "</style>\n",
       "<table border=\"1\" class=\"dataframe\">\n",
       "  <thead>\n",
       "    <tr style=\"text-align: right;\">\n",
       "      <th></th>\n",
       "      <th>cloth_dec</th>\n",
       "      <th>price</th>\n",
       "    </tr>\n",
       "  </thead>\n",
       "  <tbody>\n",
       "    <tr>\n",
       "      <th>0</th>\n",
       "      <td>Classic High Waist Skinny Jeans - Dark Denim</td>\n",
       "      <td>24.99</td>\n",
       "    </tr>\n",
       "    <tr>\n",
       "      <th>1</th>\n",
       "      <td>Classic High Waist Skinny Jeans - Medium Blue ...</td>\n",
       "      <td>24.99</td>\n",
       "    </tr>\n",
       "    <tr>\n",
       "      <th>2</th>\n",
       "      <td>Super High Waist Denim Skinnies - Black</td>\n",
       "      <td>24.99</td>\n",
       "    </tr>\n",
       "    <tr>\n",
       "      <th>3</th>\n",
       "      <td>Canopy Jeans - Black</td>\n",
       "      <td>24.99</td>\n",
       "    </tr>\n",
       "    <tr>\n",
       "      <th>4</th>\n",
       "      <td>Classic High Waist Skinny Jeans - Light Blue Wash</td>\n",
       "      <td>24.99</td>\n",
       "    </tr>\n",
       "  </tbody>\n",
       "</table>\n",
       "</div>"
      ],
      "text/plain": [
       "                                           cloth_dec  price\n",
       "0       Classic High Waist Skinny Jeans - Dark Denim  24.99\n",
       "1  Classic High Waist Skinny Jeans - Medium Blue ...  24.99\n",
       "2            Super High Waist Denim Skinnies - Black  24.99\n",
       "3                               Canopy Jeans - Black  24.99\n",
       "4  Classic High Waist Skinny Jeans - Light Blue Wash  24.99"
      ]
     },
     "execution_count": 163,
     "metadata": {},
     "output_type": "execute_result"
    }
   ],
   "source": [
    "fashionNova_df.head()"
   ]
  },
  {
   "cell_type": "code",
   "execution_count": 159,
   "metadata": {},
   "outputs": [],
   "source": [
    "#change column names to be lowercase\n",
    "shein_df.columns = shein_df.columns.str.lower()\n",
    "thereFormation_df.columns = thereFormation_df.columns.str.lower()\n",
    "fashionNova_df.columns = fashionNova_df.columns.str.lower()\n",
    "aday_df.columns = aday_df.columns.str.lower()\n",
    "target_df.columns = target_df.columns.str.lower()\n",
    "khols_df.columns = khols_df.columns.str.lower()\n",
    "\n"
   ]
  },
  {
   "cell_type": "code",
   "execution_count": 160,
   "metadata": {},
   "outputs": [],
   "source": [
    "#rename cloumn to be clothing_dec\n",
    "shein_df.rename(columns={'cloth_desc': 'cloth_dec'}, inplace=True)\n",
    "thereFormation_df.rename(columns={'cloth_desc': 'cloth_dec'}, inplace=True)\n",
    "fashionNova_df.rename(columns={'cloth_desc': 'cloth_dec'}, inplace=True)\n",
    "aday_df.rename(columns={'cloth_desc': 'cloth_dec'}, inplace=True)\n",
    "target_df.rename(columns={'cloth_desc': 'cloth_dec'}, inplace=True)\n",
    "khols_df.rename(columns={'cloth_desc': 'cloth_dec'}, inplace=True)\n"
   ]
  },
  {
   "cell_type": "code",
   "execution_count": 162,
   "metadata": {},
   "outputs": [],
   "source": [
    "#drop first column of tables with duplicate index col\n",
    "\n",
    "khols_df.drop(khols_df.columns[0], axis=1, inplace=True)\n",
    "target_df.drop(target_df.columns[0], axis=1, inplace=True)\n",
    "fashionNova_df.drop(fashionNova_df.columns[0], axis=1, inplace=True)"
   ]
  },
  {
   "cell_type": "code",
   "execution_count": 144,
   "metadata": {},
   "outputs": [],
   "source": [
    "def insert_dataframe_into_table(conn, table_name, df):\n",
    "    \"\"\"\n",
    "    Insert the rows of a Pandas DataFrame into a SQL table using the given connection and table name.\n",
    "    If a row with a duplicate key exists, update the existing row with the new values.\n",
    "    \"\"\"\n",
    "    cur = conn.cursor()\n",
    "    columns = \",\".join(df.columns)\n",
    "    values = [tuple(x) for x in df.to_numpy()]\n",
    "    placeholders = \",\".join([\"%s\"] * len(df.columns))\n",
    "    sql_query = f\"INSERT INTO {table_name} ({columns}) VALUES ({placeholders}) ON CONFLICT (cloth_dec) DO UPDATE SET price=EXCLUDED.price\"\n",
    "    execute_batch(cur, sql_query, values)\n"
   ]
  },
  {
   "cell_type": "code",
   "execution_count": 128,
   "metadata": {},
   "outputs": [
    {
     "data": {
      "text/plain": [
       "[('price',), ('cloth_dec',)]"
      ]
     },
     "execution_count": 128,
     "metadata": {},
     "output_type": "execute_result"
    }
   ],
   "source": [
    "get_column_names('shein')"
   ]
  },
  {
   "cell_type": "code",
   "execution_count": 169,
   "metadata": {},
   "outputs": [],
   "source": [
    "insert_dataframe_into_table(conn, 'shein', shein_df)\n",
    "insert_dataframe_into_table(conn, 'thereformation', thereFormation_df)\n",
    "insert_dataframe_into_table(conn, 'fashionnova', fashionNova_df)\n",
    "insert_dataframe_into_table(conn, 'aday', aday_df)\n",
    "insert_dataframe_into_table(conn, 'khols', khols_df)\n",
    "insert_dataframe_into_table(conn, 'target', target_df)"
   ]
  },
  {
   "cell_type": "code",
   "execution_count": 171,
   "metadata": {},
   "outputs": [],
   "source": [
    "conn.commit()"
   ]
  },
  {
   "cell_type": "code",
   "execution_count": 172,
   "metadata": {},
   "outputs": [
    {
     "data": {
      "text/html": [
       "<div>\n",
       "<style scoped>\n",
       "    .dataframe tbody tr th:only-of-type {\n",
       "        vertical-align: middle;\n",
       "    }\n",
       "\n",
       "    .dataframe tbody tr th {\n",
       "        vertical-align: top;\n",
       "    }\n",
       "\n",
       "    .dataframe thead th {\n",
       "        text-align: right;\n",
       "    }\n",
       "</style>\n",
       "<table border=\"1\" class=\"dataframe\">\n",
       "  <thead>\n",
       "    <tr style=\"text-align: right;\">\n",
       "      <th></th>\n",
       "      <th>cloth_dec</th>\n",
       "      <th>price</th>\n",
       "    </tr>\n",
       "  </thead>\n",
       "  <tbody>\n",
       "    <tr>\n",
       "      <th>0</th>\n",
       "      <td>Ditsy Floral Ring Linked Triangle Bikini Swimsuit</td>\n",
       "      <td>8.49</td>\n",
       "    </tr>\n",
       "    <tr>\n",
       "      <th>1</th>\n",
       "      <td>Shirred Bodice Allover Print Jumpsuit Without ...</td>\n",
       "      <td>14.00</td>\n",
       "    </tr>\n",
       "    <tr>\n",
       "      <th>2</th>\n",
       "      <td>Two Tone Contrast Binding Tie Backless Halter ...</td>\n",
       "      <td>7.00</td>\n",
       "    </tr>\n",
       "    <tr>\n",
       "      <th>3</th>\n",
       "      <td>Textured Knit Duster Cardigan</td>\n",
       "      <td>18.00</td>\n",
       "    </tr>\n",
       "    <tr>\n",
       "      <th>4</th>\n",
       "      <td>Car &amp; Letter Graphic Drop Shoulder Tee</td>\n",
       "      <td>8.00</td>\n",
       "    </tr>\n",
       "  </tbody>\n",
       "</table>\n",
       "</div>"
      ],
      "text/plain": [
       "                                           cloth_dec  price\n",
       "0  Ditsy Floral Ring Linked Triangle Bikini Swimsuit   8.49\n",
       "1  Shirred Bodice Allover Print Jumpsuit Without ...  14.00\n",
       "2  Two Tone Contrast Binding Tie Backless Halter ...   7.00\n",
       "3                      Textured Knit Duster Cardigan  18.00\n",
       "4             Car & Letter Graphic Drop Shoulder Tee   8.00"
      ]
     },
     "execution_count": 172,
     "metadata": {},
     "output_type": "execute_result"
    }
   ],
   "source": [
    "sql_head('shein')"
   ]
  },
  {
   "cell_type": "code",
   "execution_count": 173,
   "metadata": {},
   "outputs": [
    {
     "data": {
      "text/html": [
       "<div>\n",
       "<style scoped>\n",
       "    .dataframe tbody tr th:only-of-type {\n",
       "        vertical-align: middle;\n",
       "    }\n",
       "\n",
       "    .dataframe tbody tr th {\n",
       "        vertical-align: top;\n",
       "    }\n",
       "\n",
       "    .dataframe thead th {\n",
       "        text-align: right;\n",
       "    }\n",
       "</style>\n",
       "<table border=\"1\" class=\"dataframe\">\n",
       "  <thead>\n",
       "    <tr style=\"text-align: right;\">\n",
       "      <th></th>\n",
       "      <th>cloth_dec</th>\n",
       "      <th>price</th>\n",
       "    </tr>\n",
       "  </thead>\n",
       "  <tbody>\n",
       "    <tr>\n",
       "      <th>0</th>\n",
       "      <td>Noah Short Sleeve Shirt</td>\n",
       "      <td>128.0</td>\n",
       "    </tr>\n",
       "    <tr>\n",
       "      <th>1</th>\n",
       "      <td>Talina Top</td>\n",
       "      <td>148.0</td>\n",
       "    </tr>\n",
       "    <tr>\n",
       "      <th>2</th>\n",
       "      <td>Redford Cotton Open Knit Sweater</td>\n",
       "      <td>168.0</td>\n",
       "    </tr>\n",
       "    <tr>\n",
       "      <th>3</th>\n",
       "      <td>Eldora Knit Top</td>\n",
       "      <td>68.0</td>\n",
       "    </tr>\n",
       "    <tr>\n",
       "      <th>4</th>\n",
       "      <td>Mayson Knit Dress</td>\n",
       "      <td>128.0</td>\n",
       "    </tr>\n",
       "  </tbody>\n",
       "</table>\n",
       "</div>"
      ],
      "text/plain": [
       "                          cloth_dec  price\n",
       "0           Noah Short Sleeve Shirt  128.0\n",
       "1                        Talina Top  148.0\n",
       "2  Redford Cotton Open Knit Sweater  168.0\n",
       "3                   Eldora Knit Top   68.0\n",
       "4                 Mayson Knit Dress  128.0"
      ]
     },
     "execution_count": 173,
     "metadata": {},
     "output_type": "execute_result"
    }
   ],
   "source": [
    "sql_head('thereformation')"
   ]
  },
  {
   "cell_type": "code",
   "execution_count": 174,
   "metadata": {},
   "outputs": [
    {
     "data": {
      "text/html": [
       "<div>\n",
       "<style scoped>\n",
       "    .dataframe tbody tr th:only-of-type {\n",
       "        vertical-align: middle;\n",
       "    }\n",
       "\n",
       "    .dataframe tbody tr th {\n",
       "        vertical-align: top;\n",
       "    }\n",
       "\n",
       "    .dataframe thead th {\n",
       "        text-align: right;\n",
       "    }\n",
       "</style>\n",
       "<table border=\"1\" class=\"dataframe\">\n",
       "  <thead>\n",
       "    <tr style=\"text-align: right;\">\n",
       "      <th></th>\n",
       "      <th>cloth_dec</th>\n",
       "      <th>price</th>\n",
       "    </tr>\n",
       "  </thead>\n",
       "  <tbody>\n",
       "    <tr>\n",
       "      <th>0</th>\n",
       "      <td>Classic High Waist Skinny Jeans - Dark Denim</td>\n",
       "      <td>24.99</td>\n",
       "    </tr>\n",
       "    <tr>\n",
       "      <th>1</th>\n",
       "      <td>Classic High Waist Skinny Jeans - Medium Blue ...</td>\n",
       "      <td>24.99</td>\n",
       "    </tr>\n",
       "    <tr>\n",
       "      <th>2</th>\n",
       "      <td>Super High Waist Denim Skinnies - Black</td>\n",
       "      <td>24.99</td>\n",
       "    </tr>\n",
       "    <tr>\n",
       "      <th>3</th>\n",
       "      <td>Canopy Jeans - Black</td>\n",
       "      <td>24.99</td>\n",
       "    </tr>\n",
       "    <tr>\n",
       "      <th>4</th>\n",
       "      <td>Classic High Waist Skinny Jeans - Light Blue Wash</td>\n",
       "      <td>24.99</td>\n",
       "    </tr>\n",
       "  </tbody>\n",
       "</table>\n",
       "</div>"
      ],
      "text/plain": [
       "                                           cloth_dec  price\n",
       "0       Classic High Waist Skinny Jeans - Dark Denim  24.99\n",
       "1  Classic High Waist Skinny Jeans - Medium Blue ...  24.99\n",
       "2            Super High Waist Denim Skinnies - Black  24.99\n",
       "3                               Canopy Jeans - Black  24.99\n",
       "4  Classic High Waist Skinny Jeans - Light Blue Wash  24.99"
      ]
     },
     "execution_count": 174,
     "metadata": {},
     "output_type": "execute_result"
    }
   ],
   "source": [
    "sql_head('fashionnova')"
   ]
  },
  {
   "cell_type": "code",
   "execution_count": 175,
   "metadata": {},
   "outputs": [
    {
     "data": {
      "text/html": [
       "<div>\n",
       "<style scoped>\n",
       "    .dataframe tbody tr th:only-of-type {\n",
       "        vertical-align: middle;\n",
       "    }\n",
       "\n",
       "    .dataframe tbody tr th {\n",
       "        vertical-align: top;\n",
       "    }\n",
       "\n",
       "    .dataframe thead th {\n",
       "        text-align: right;\n",
       "    }\n",
       "</style>\n",
       "<table border=\"1\" class=\"dataframe\">\n",
       "  <thead>\n",
       "    <tr style=\"text-align: right;\">\n",
       "      <th></th>\n",
       "      <th>cloth_dec</th>\n",
       "      <th>price</th>\n",
       "    </tr>\n",
       "  </thead>\n",
       "  <tbody>\n",
       "    <tr>\n",
       "      <th>0</th>\n",
       "      <td>All Day Long Sleeve T-Shirt</td>\n",
       "      <td>75.0</td>\n",
       "    </tr>\n",
       "    <tr>\n",
       "      <th>1</th>\n",
       "      <td>All Weather Cardigan</td>\n",
       "      <td>200.0</td>\n",
       "    </tr>\n",
       "    <tr>\n",
       "      <th>2</th>\n",
       "      <td>Back To Front Shirt Dress</td>\n",
       "      <td>180.0</td>\n",
       "    </tr>\n",
       "    <tr>\n",
       "      <th>3</th>\n",
       "      <td>Bend and Stretch Dress Pants</td>\n",
       "      <td>160.0</td>\n",
       "    </tr>\n",
       "    <tr>\n",
       "      <th>4</th>\n",
       "      <td>Best In Class Bodysuit</td>\n",
       "      <td>105.0</td>\n",
       "    </tr>\n",
       "  </tbody>\n",
       "</table>\n",
       "</div>"
      ],
      "text/plain": [
       "                      cloth_dec  price\n",
       "0   All Day Long Sleeve T-Shirt   75.0\n",
       "1          All Weather Cardigan  200.0\n",
       "2     Back To Front Shirt Dress  180.0\n",
       "3  Bend and Stretch Dress Pants  160.0\n",
       "4        Best In Class Bodysuit  105.0"
      ]
     },
     "execution_count": 175,
     "metadata": {},
     "output_type": "execute_result"
    }
   ],
   "source": [
    "sql_head('aday')"
   ]
  },
  {
   "cell_type": "code",
   "execution_count": 176,
   "metadata": {},
   "outputs": [
    {
     "data": {
      "text/html": [
       "<div>\n",
       "<style scoped>\n",
       "    .dataframe tbody tr th:only-of-type {\n",
       "        vertical-align: middle;\n",
       "    }\n",
       "\n",
       "    .dataframe tbody tr th {\n",
       "        vertical-align: top;\n",
       "    }\n",
       "\n",
       "    .dataframe thead th {\n",
       "        text-align: right;\n",
       "    }\n",
       "</style>\n",
       "<table border=\"1\" class=\"dataframe\">\n",
       "  <thead>\n",
       "    <tr style=\"text-align: right;\">\n",
       "      <th></th>\n",
       "      <th>cloth_dec</th>\n",
       "      <th>price</th>\n",
       "    </tr>\n",
       "  </thead>\n",
       "  <tbody>\n",
       "    <tr>\n",
       "      <th>0</th>\n",
       "      <td>Women's Gloria Vanderbilt Amanda Classic Jeans</td>\n",
       "      <td>24.99</td>\n",
       "    </tr>\n",
       "    <tr>\n",
       "      <th>1</th>\n",
       "      <td>Women's Sonoma Goods For Life® Supersoft Stret...</td>\n",
       "      <td>18.79</td>\n",
       "    </tr>\n",
       "    <tr>\n",
       "      <th>2</th>\n",
       "      <td>Women's Sonoma Goods For Life® Supersoft Midri...</td>\n",
       "      <td>18.79</td>\n",
       "    </tr>\n",
       "    <tr>\n",
       "      <th>3</th>\n",
       "      <td>Women's Sonoma Goods For Life® Midrise Bootcut...</td>\n",
       "      <td>24.99</td>\n",
       "    </tr>\n",
       "    <tr>\n",
       "      <th>4</th>\n",
       "      <td>Women's Sonoma Goods For Life® Straight-Leg ...</td>\n",
       "      <td>18.79</td>\n",
       "    </tr>\n",
       "  </tbody>\n",
       "</table>\n",
       "</div>"
      ],
      "text/plain": [
       "                                           cloth_dec  price\n",
       "0     Women's Gloria Vanderbilt Amanda Classic Jeans  24.99\n",
       "1  Women's Sonoma Goods For Life® Supersoft Stret...  18.79\n",
       "2  Women's Sonoma Goods For Life® Supersoft Midri...  18.79\n",
       "3  Women's Sonoma Goods For Life® Midrise Bootcut...  24.99\n",
       "4    Women's Sonoma Goods For Life® Straight-Leg ...  18.79"
      ]
     },
     "execution_count": 176,
     "metadata": {},
     "output_type": "execute_result"
    }
   ],
   "source": [
    "sql_head('khols')"
   ]
  },
  {
   "cell_type": "code",
   "execution_count": 177,
   "metadata": {},
   "outputs": [
    {
     "data": {
      "text/html": [
       "<div>\n",
       "<style scoped>\n",
       "    .dataframe tbody tr th:only-of-type {\n",
       "        vertical-align: middle;\n",
       "    }\n",
       "\n",
       "    .dataframe tbody tr th {\n",
       "        vertical-align: top;\n",
       "    }\n",
       "\n",
       "    .dataframe thead th {\n",
       "        text-align: right;\n",
       "    }\n",
       "</style>\n",
       "<table border=\"1\" class=\"dataframe\">\n",
       "  <thead>\n",
       "    <tr style=\"text-align: right;\">\n",
       "      <th></th>\n",
       "      <th>cloth_dec</th>\n",
       "      <th>price</th>\n",
       "    </tr>\n",
       "  </thead>\n",
       "  <tbody>\n",
       "    <tr>\n",
       "      <th>0</th>\n",
       "      <td>High-Waisted Classic Leggings - Wild Fable Black</td>\n",
       "      <td>3.50</td>\n",
       "    </tr>\n",
       "    <tr>\n",
       "      <th>1</th>\n",
       "      <td>Tiny Tank Top - Wild Fable</td>\n",
       "      <td>2.50</td>\n",
       "    </tr>\n",
       "    <tr>\n",
       "      <th>2</th>\n",
       "      <td>90 Degree by Reflex - Women's Soft Comfy Loung...</td>\n",
       "      <td>10.99</td>\n",
       "    </tr>\n",
       "    <tr>\n",
       "      <th>3</th>\n",
       "      <td>Tonal Shamrocks St. Patrick's Day Crew Socks -...</td>\n",
       "      <td>3.50</td>\n",
       "    </tr>\n",
       "    <tr>\n",
       "      <th>4</th>\n",
       "      <td>Short Sleeve Casual T-Shirt - A New Day</td>\n",
       "      <td>4.40</td>\n",
       "    </tr>\n",
       "  </tbody>\n",
       "</table>\n",
       "</div>"
      ],
      "text/plain": [
       "                                           cloth_dec  price\n",
       "0   High-Waisted Classic Leggings - Wild Fable Black   3.50\n",
       "1                         Tiny Tank Top - Wild Fable   2.50\n",
       "2  90 Degree by Reflex - Women's Soft Comfy Loung...  10.99\n",
       "3  Tonal Shamrocks St. Patrick's Day Crew Socks -...   3.50\n",
       "4            Short Sleeve Casual T-Shirt - A New Day   4.40"
      ]
     },
     "execution_count": 177,
     "metadata": {},
     "output_type": "execute_result"
    }
   ],
   "source": [
    "sql_head('target')"
   ]
  },
  {
   "cell_type": "code",
   "execution_count": null,
   "metadata": {},
   "outputs": [],
   "source": []
  }
 ],
 "metadata": {
  "kernelspec": {
   "display_name": "Python 3.9.12 ('base')",
   "language": "python",
   "name": "python3"
  },
  "language_info": {
   "codemirror_mode": {
    "name": "ipython",
    "version": 3
   },
   "file_extension": ".py",
   "mimetype": "text/x-python",
   "name": "python",
   "nbconvert_exporter": "python",
   "pygments_lexer": "ipython3",
   "version": "3.9.12"
  },
  "orig_nbformat": 4,
  "vscode": {
   "interpreter": {
    "hash": "890e6112ce38cc2a7da80c5358dba6e88f69512b12c85c6399c431387035d9e8"
   }
  }
 },
 "nbformat": 4,
 "nbformat_minor": 2
}
