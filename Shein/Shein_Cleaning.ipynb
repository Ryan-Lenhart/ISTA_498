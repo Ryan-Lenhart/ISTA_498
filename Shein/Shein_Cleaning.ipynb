{
 "cells": [
  {
   "cell_type": "code",
   "execution_count": 67,
   "id": "992b08b0",
   "metadata": {},
   "outputs": [],
   "source": [
    "import pandas as pd\n",
    "import numpy as np\n",
    "from collections import Counter"
   ]
  },
  {
   "cell_type": "code",
   "execution_count": 21,
   "id": "288a9326",
   "metadata": {},
   "outputs": [],
   "source": [
    "file_path = r\"C:\\Users\\Braydon\\Desktop\\Shein_Data\\Pivot_Data\\Shein_Pivot.csv\"\n",
    "\n",
    "shein_df = pd.read_csv(file_path,usecols = ['Column1','Column3'])"
   ]
  },
  {
   "cell_type": "code",
   "execution_count": 22,
   "id": "2495181f",
   "metadata": {},
   "outputs": [],
   "source": [
    "shein_df.head()\n",
    "shein_df_copy = shein_df.copy()"
   ]
  },
  {
   "cell_type": "code",
   "execution_count": 25,
   "id": "862a88fc",
   "metadata": {},
   "outputs": [
    {
     "data": {
      "text/html": [
       "<div>\n",
       "<style scoped>\n",
       "    .dataframe tbody tr th:only-of-type {\n",
       "        vertical-align: middle;\n",
       "    }\n",
       "\n",
       "    .dataframe tbody tr th {\n",
       "        vertical-align: top;\n",
       "    }\n",
       "\n",
       "    .dataframe thead th {\n",
       "        text-align: right;\n",
       "    }\n",
       "</style>\n",
       "<table border=\"1\" class=\"dataframe\">\n",
       "  <thead>\n",
       "    <tr style=\"text-align: right;\">\n",
       "      <th></th>\n",
       "      <th>Column1</th>\n",
       "      <th>Column3</th>\n",
       "    </tr>\n",
       "  </thead>\n",
       "  <tbody>\n",
       "    <tr>\n",
       "      <th>0</th>\n",
       "      <td>SHEIN Unity Solid Form Fitted Bodysuit</td>\n",
       "      <td>8.35</td>\n",
       "    </tr>\n",
       "    <tr>\n",
       "      <th>1</th>\n",
       "      <td>Cherry Embroidery Lantern Sleeve Cardigan</td>\n",
       "      <td>19.00</td>\n",
       "    </tr>\n",
       "    <tr>\n",
       "      <th>2</th>\n",
       "      <td>Random Allover Floral Print Ruched Bust Ruffle...</td>\n",
       "      <td>17.00</td>\n",
       "    </tr>\n",
       "    <tr>\n",
       "      <th>3</th>\n",
       "      <td>SHEIN SXY Cut Out Waist Tube Bodycon Dress</td>\n",
       "      <td>9.00</td>\n",
       "    </tr>\n",
       "    <tr>\n",
       "      <th>4</th>\n",
       "      <td>Solid Drawstring Slant Pocket Sweatpants</td>\n",
       "      <td>13.40</td>\n",
       "    </tr>\n",
       "    <tr>\n",
       "      <th>...</th>\n",
       "      <td>...</td>\n",
       "      <td>...</td>\n",
       "    </tr>\n",
       "    <tr>\n",
       "      <th>4789</th>\n",
       "      <td>Joyfunear Sequin Bodice Backless Mesh Cami For...</td>\n",
       "      <td>26.00</td>\n",
       "    </tr>\n",
       "    <tr>\n",
       "      <th>4790</th>\n",
       "      <td>Rainbow And Slogan Graphic Tee</td>\n",
       "      <td>8.00</td>\n",
       "    </tr>\n",
       "    <tr>\n",
       "      <th>4791</th>\n",
       "      <td>2pack Chiffon Knot Cover Up</td>\n",
       "      <td>7.49</td>\n",
       "    </tr>\n",
       "    <tr>\n",
       "      <th>4792</th>\n",
       "      <td>SHEIN BAE Solid Criss Cross Tie Backless Split...</td>\n",
       "      <td>12.00</td>\n",
       "    </tr>\n",
       "    <tr>\n",
       "      <th>4793</th>\n",
       "      <td>SHEIN BAE Lace up Backless Split Hem Sequince ...</td>\n",
       "      <td>15.40</td>\n",
       "    </tr>\n",
       "  </tbody>\n",
       "</table>\n",
       "<p>4794 rows × 2 columns</p>\n",
       "</div>"
      ],
      "text/plain": [
       "                                                Column1  Column3\n",
       "0                SHEIN Unity Solid Form Fitted Bodysuit     8.35\n",
       "1             Cherry Embroidery Lantern Sleeve Cardigan    19.00\n",
       "2     Random Allover Floral Print Ruched Bust Ruffle...    17.00\n",
       "3            SHEIN SXY Cut Out Waist Tube Bodycon Dress     9.00\n",
       "4              Solid Drawstring Slant Pocket Sweatpants    13.40\n",
       "...                                                 ...      ...\n",
       "4789  Joyfunear Sequin Bodice Backless Mesh Cami For...    26.00\n",
       "4790                     Rainbow And Slogan Graphic Tee     8.00\n",
       "4791                        2pack Chiffon Knot Cover Up     7.49\n",
       "4792  SHEIN BAE Solid Criss Cross Tie Backless Split...    12.00\n",
       "4793  SHEIN BAE Lace up Backless Split Hem Sequince ...    15.40\n",
       "\n",
       "[4794 rows x 2 columns]"
      ]
     },
     "execution_count": 25,
     "metadata": {},
     "output_type": "execute_result"
    }
   ],
   "source": [
    "shein_df_copy"
   ]
  },
  {
   "cell_type": "code",
   "execution_count": 35,
   "id": "b39aa519",
   "metadata": {},
   "outputs": [],
   "source": [
    "shein_df_copy = shein_df_copy.rename(columns={\"Column1\":\"Cloth_Desc\",\"Column3\":\"Price\"})"
   ]
  },
  {
   "cell_type": "code",
   "execution_count": 36,
   "id": "e3735c05",
   "metadata": {},
   "outputs": [
    {
     "data": {
      "text/html": [
       "<div>\n",
       "<style scoped>\n",
       "    .dataframe tbody tr th:only-of-type {\n",
       "        vertical-align: middle;\n",
       "    }\n",
       "\n",
       "    .dataframe tbody tr th {\n",
       "        vertical-align: top;\n",
       "    }\n",
       "\n",
       "    .dataframe thead th {\n",
       "        text-align: right;\n",
       "    }\n",
       "</style>\n",
       "<table border=\"1\" class=\"dataframe\">\n",
       "  <thead>\n",
       "    <tr style=\"text-align: right;\">\n",
       "      <th></th>\n",
       "      <th>Cloth_Desc</th>\n",
       "      <th>Price</th>\n",
       "    </tr>\n",
       "  </thead>\n",
       "  <tbody>\n",
       "    <tr>\n",
       "      <th>0</th>\n",
       "      <td>SHEIN Unity Solid Form Fitted Bodysuit</td>\n",
       "      <td>8.35</td>\n",
       "    </tr>\n",
       "    <tr>\n",
       "      <th>1</th>\n",
       "      <td>Cherry Embroidery Lantern Sleeve Cardigan</td>\n",
       "      <td>19.00</td>\n",
       "    </tr>\n",
       "    <tr>\n",
       "      <th>2</th>\n",
       "      <td>Random Allover Floral Print Ruched Bust Ruffle...</td>\n",
       "      <td>17.00</td>\n",
       "    </tr>\n",
       "    <tr>\n",
       "      <th>3</th>\n",
       "      <td>SHEIN SXY Cut Out Waist Tube Bodycon Dress</td>\n",
       "      <td>9.00</td>\n",
       "    </tr>\n",
       "    <tr>\n",
       "      <th>4</th>\n",
       "      <td>Solid Drawstring Slant Pocket Sweatpants</td>\n",
       "      <td>13.40</td>\n",
       "    </tr>\n",
       "    <tr>\n",
       "      <th>...</th>\n",
       "      <td>...</td>\n",
       "      <td>...</td>\n",
       "    </tr>\n",
       "    <tr>\n",
       "      <th>4789</th>\n",
       "      <td>Joyfunear Sequin Bodice Backless Mesh Cami For...</td>\n",
       "      <td>26.00</td>\n",
       "    </tr>\n",
       "    <tr>\n",
       "      <th>4790</th>\n",
       "      <td>Rainbow And Slogan Graphic Tee</td>\n",
       "      <td>8.00</td>\n",
       "    </tr>\n",
       "    <tr>\n",
       "      <th>4791</th>\n",
       "      <td>2pack Chiffon Knot Cover Up</td>\n",
       "      <td>7.49</td>\n",
       "    </tr>\n",
       "    <tr>\n",
       "      <th>4792</th>\n",
       "      <td>SHEIN BAE Solid Criss Cross Tie Backless Split...</td>\n",
       "      <td>12.00</td>\n",
       "    </tr>\n",
       "    <tr>\n",
       "      <th>4793</th>\n",
       "      <td>SHEIN BAE Lace up Backless Split Hem Sequince ...</td>\n",
       "      <td>15.40</td>\n",
       "    </tr>\n",
       "  </tbody>\n",
       "</table>\n",
       "<p>4794 rows × 2 columns</p>\n",
       "</div>"
      ],
      "text/plain": [
       "                                             Cloth_Desc  Price\n",
       "0                SHEIN Unity Solid Form Fitted Bodysuit   8.35\n",
       "1             Cherry Embroidery Lantern Sleeve Cardigan  19.00\n",
       "2     Random Allover Floral Print Ruched Bust Ruffle...  17.00\n",
       "3            SHEIN SXY Cut Out Waist Tube Bodycon Dress   9.00\n",
       "4              Solid Drawstring Slant Pocket Sweatpants  13.40\n",
       "...                                                 ...    ...\n",
       "4789  Joyfunear Sequin Bodice Backless Mesh Cami For...  26.00\n",
       "4790                     Rainbow And Slogan Graphic Tee   8.00\n",
       "4791                        2pack Chiffon Knot Cover Up   7.49\n",
       "4792  SHEIN BAE Solid Criss Cross Tie Backless Split...  12.00\n",
       "4793  SHEIN BAE Lace up Backless Split Hem Sequince ...  15.40\n",
       "\n",
       "[4794 rows x 2 columns]"
      ]
     },
     "execution_count": 36,
     "metadata": {},
     "output_type": "execute_result"
    }
   ],
   "source": [
    "shein_df_copy"
   ]
  },
  {
   "cell_type": "code",
   "execution_count": 37,
   "id": "878063f5",
   "metadata": {},
   "outputs": [
    {
     "data": {
      "text/plain": [
       "0                  SHEIN Unity Solid Form Fitted Bodysuit\n",
       "1               Cherry Embroidery Lantern Sleeve Cardigan\n",
       "2       Random Allover Floral Print Ruched Bust Ruffle...\n",
       "3              SHEIN SXY Cut Out Waist Tube Bodycon Dress\n",
       "4                Solid Drawstring Slant Pocket Sweatpants\n",
       "                              ...                        \n",
       "4789    Joyfunear Sequin Bodice Backless Mesh Cami For...\n",
       "4790                       Rainbow And Slogan Graphic Tee\n",
       "4791                          2pack Chiffon Knot Cover Up\n",
       "4792    SHEIN BAE Solid Criss Cross Tie Backless Split...\n",
       "4793    SHEIN BAE Lace up Backless Split Hem Sequince ...\n",
       "Name: Cloth_Desc, Length: 4794, dtype: object"
      ]
     },
     "execution_count": 37,
     "metadata": {},
     "output_type": "execute_result"
    }
   ],
   "source": [
    "#stripping extra spaces in Cloth_Desc\n",
    "shein_df_copy['Cloth_Desc'].str.strip()"
   ]
  },
  {
   "cell_type": "code",
   "execution_count": 40,
   "id": "32193ae4",
   "metadata": {},
   "outputs": [
    {
     "data": {
      "text/plain": [
       "Cloth_Desc     object\n",
       "Price         float64\n",
       "dtype: object"
      ]
     },
     "execution_count": 40,
     "metadata": {},
     "output_type": "execute_result"
    }
   ],
   "source": [
    "shein_df_copy.dtypes"
   ]
  },
  {
   "cell_type": "code",
   "execution_count": 63,
   "id": "c1fc1c3c",
   "metadata": {},
   "outputs": [],
   "source": [
    "cloth_word_lst = []"
   ]
  },
  {
   "cell_type": "code",
   "execution_count": 64,
   "id": "f175b037",
   "metadata": {},
   "outputs": [],
   "source": [
    "for item in shein_df_copy['Cloth_Desc']:\n",
    "    item = item.split()\n",
    "    for thing in item:\n",
    "        cloth_word_lst.append(thing)\n",
    "    "
   ]
  },
  {
   "cell_type": "code",
   "execution_count": 66,
   "id": "f57e2c07",
   "metadata": {},
   "outputs": [
    {
     "data": {
      "text/plain": [
       "33478"
      ]
     },
     "execution_count": 66,
     "metadata": {},
     "output_type": "execute_result"
    }
   ],
   "source": [
    "len(cloth_word_lst)"
   ]
  },
  {
   "cell_type": "code",
   "execution_count": 68,
   "id": "19917284",
   "metadata": {},
   "outputs": [],
   "source": [
    "cloth_word_count = Counter(cloth_word_lst)"
   ]
  },
  {
   "cell_type": "code",
   "execution_count": 73,
   "id": "4afc4090",
   "metadata": {},
   "outputs": [
    {
     "data": {
      "text/plain": [
       "[('SHEIN', 1812),\n",
       " ('Dress', 1385),\n",
       " ('Print', 845),\n",
       " ('Solid', 806),\n",
       " ('Top', 775),\n",
       " ('Neck', 772),\n",
       " ('Sleeve', 668),\n",
       " ('Shoulder', 638),\n",
       " ('Hem', 567),\n",
       " ('Crop', 547),\n",
       " ('Tee', 499),\n",
       " ('Floral', 490),\n",
       " ('Bikini', 444),\n",
       " ('Tie', 441),\n",
       " ('Front', 424)]"
      ]
     },
     "execution_count": 73,
     "metadata": {},
     "output_type": "execute_result"
    }
   ],
   "source": [
    "cloth_word_count.most_common(15)"
   ]
  },
  {
   "cell_type": "code",
   "execution_count": 77,
   "id": "1c539e7e",
   "metadata": {},
   "outputs": [],
   "source": [
    "shein_df_copy.to_csv('Shein_Cleaned.csv',index = False)"
   ]
  },
  {
   "cell_type": "code",
   "execution_count": null,
   "id": "a661bfeb",
   "metadata": {},
   "outputs": [],
   "source": [
    "Testing---------------------------------------"
   ]
  },
  {
   "cell_type": "code",
   "execution_count": 51,
   "id": "bb453ad8",
   "metadata": {},
   "outputs": [],
   "source": [
    "cloth = shein_df_copy[\"Cloth_Desc\"][1]"
   ]
  },
  {
   "cell_type": "code",
   "execution_count": 57,
   "id": "1b07bed7",
   "metadata": {},
   "outputs": [
    {
     "data": {
      "text/plain": [
       "['Cherry', 'Embroidery', 'Lantern', 'Sleeve', 'Cardigan']"
      ]
     },
     "execution_count": 57,
     "metadata": {},
     "output_type": "execute_result"
    }
   ],
   "source": [
    "cloth.split()\n"
   ]
  },
  {
   "cell_type": "code",
   "execution_count": 60,
   "id": "ed68c8f3",
   "metadata": {},
   "outputs": [],
   "source": [
    "lst = []\n",
    "for item in cloth.split():\n",
    "    lst.append(item)"
   ]
  },
  {
   "cell_type": "code",
   "execution_count": 61,
   "id": "ee3ddcb4",
   "metadata": {},
   "outputs": [
    {
     "data": {
      "text/plain": [
       "['Cherry', 'Embroidery', 'Lantern', 'Sleeve', 'Cardigan']"
      ]
     },
     "execution_count": 61,
     "metadata": {},
     "output_type": "execute_result"
    }
   ],
   "source": [
    "lst"
   ]
  },
  {
   "cell_type": "code",
   "execution_count": null,
   "id": "3adf860c",
   "metadata": {},
   "outputs": [],
   "source": [
    "End of Testing-------------------------------"
   ]
  }
 ],
 "metadata": {
  "kernelspec": {
   "display_name": "Python 3 (ipykernel)",
   "language": "python",
   "name": "python3"
  },
  "language_info": {
   "codemirror_mode": {
    "name": "ipython",
    "version": 3
   },
   "file_extension": ".py",
   "mimetype": "text/x-python",
   "name": "python",
   "nbconvert_exporter": "python",
   "pygments_lexer": "ipython3",
   "version": "3.9.7"
  }
 },
 "nbformat": 4,
 "nbformat_minor": 5
}
