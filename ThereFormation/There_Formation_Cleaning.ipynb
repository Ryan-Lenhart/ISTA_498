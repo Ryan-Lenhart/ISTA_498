{
 "cells": [
  {
   "cell_type": "code",
   "execution_count": 2,
   "id": "992b08b0",
   "metadata": {},
   "outputs": [],
   "source": [
    "import pandas as pd\n",
    "import numpy as np\n",
    "from collections import Counter"
   ]
  },
  {
   "cell_type": "code",
   "execution_count": 34,
   "id": "288a9326",
   "metadata": {},
   "outputs": [],
   "source": [
    "file_path = r\"C:\\Users\\Braydon\\Desktop\\Shein_Data\\Pivot_Data\\ThereFormation_Pivot.csv\"\n",
    "\n",
    "Tf = pd.read_csv(file_path,usecols = ['Cloth_Desc','Listed_Price'])"
   ]
  },
  {
   "cell_type": "code",
   "execution_count": 35,
   "id": "66848470",
   "metadata": {},
   "outputs": [
    {
     "data": {
      "text/html": [
       "<div>\n",
       "<style scoped>\n",
       "    .dataframe tbody tr th:only-of-type {\n",
       "        vertical-align: middle;\n",
       "    }\n",
       "\n",
       "    .dataframe tbody tr th {\n",
       "        vertical-align: top;\n",
       "    }\n",
       "\n",
       "    .dataframe thead th {\n",
       "        text-align: right;\n",
       "    }\n",
       "</style>\n",
       "<table border=\"1\" class=\"dataframe\">\n",
       "  <thead>\n",
       "    <tr style=\"text-align: right;\">\n",
       "      <th></th>\n",
       "      <th>Cloth_Desc</th>\n",
       "      <th>Listed_Price</th>\n",
       "    </tr>\n",
       "  </thead>\n",
       "  <tbody>\n",
       "    <tr>\n",
       "      <th>0</th>\n",
       "      <td>Casette Linen Dress</td>\n",
       "      <td>$248.00</td>\n",
       "    </tr>\n",
       "    <tr>\n",
       "      <th>1</th>\n",
       "      <td>Jaide Dress</td>\n",
       "      <td>$328.00</td>\n",
       "    </tr>\n",
       "    <tr>\n",
       "      <th>2</th>\n",
       "      <td>Joanne Cotton Cardigan</td>\n",
       "      <td>$128.00</td>\n",
       "    </tr>\n",
       "    <tr>\n",
       "      <th>3</th>\n",
       "      <td>Mason Pant</td>\n",
       "      <td>$178.00</td>\n",
       "    </tr>\n",
       "    <tr>\n",
       "      <th>4</th>\n",
       "      <td>Lindy Knit Top</td>\n",
       "      <td>$68.00</td>\n",
       "    </tr>\n",
       "    <tr>\n",
       "      <th>...</th>\n",
       "      <td>...</td>\n",
       "      <td>...</td>\n",
       "    </tr>\n",
       "    <tr>\n",
       "      <th>781</th>\n",
       "      <td>Laredo Knit Top</td>\n",
       "      <td>$88.00</td>\n",
       "    </tr>\n",
       "    <tr>\n",
       "      <th>782</th>\n",
       "      <td>Shayla Dress</td>\n",
       "      <td>$348.00</td>\n",
       "    </tr>\n",
       "    <tr>\n",
       "      <th>783</th>\n",
       "      <td>Joanne Belted Denim Dress</td>\n",
       "      <td>$178.00</td>\n",
       "    </tr>\n",
       "    <tr>\n",
       "      <th>784</th>\n",
       "      <td>Westerly Dress</td>\n",
       "      <td>$348.00</td>\n",
       "    </tr>\n",
       "    <tr>\n",
       "      <th>785</th>\n",
       "      <td>Petites Cynthia High Rise Straight Jeans</td>\n",
       "      <td>$148.00</td>\n",
       "    </tr>\n",
       "  </tbody>\n",
       "</table>\n",
       "<p>786 rows × 2 columns</p>\n",
       "</div>"
      ],
      "text/plain": [
       "                                   Cloth_Desc Listed_Price\n",
       "0                         Casette Linen Dress     $248.00 \n",
       "1                                 Jaide Dress     $328.00 \n",
       "2                      Joanne Cotton Cardigan     $128.00 \n",
       "3                                  Mason Pant     $178.00 \n",
       "4                              Lindy Knit Top      $68.00 \n",
       "..                                        ...          ...\n",
       "781                           Laredo Knit Top      $88.00 \n",
       "782                              Shayla Dress     $348.00 \n",
       "783                 Joanne Belted Denim Dress     $178.00 \n",
       "784                            Westerly Dress     $348.00 \n",
       "785  Petites Cynthia High Rise Straight Jeans     $148.00 \n",
       "\n",
       "[786 rows x 2 columns]"
      ]
     },
     "execution_count": 35,
     "metadata": {},
     "output_type": "execute_result"
    }
   ],
   "source": [
    "Tf"
   ]
  },
  {
   "cell_type": "code",
   "execution_count": 36,
   "id": "2495181f",
   "metadata": {},
   "outputs": [],
   "source": [
    "Tf_copy = Tf.copy()"
   ]
  },
  {
   "cell_type": "code",
   "execution_count": 37,
   "id": "862a88fc",
   "metadata": {},
   "outputs": [
    {
     "data": {
      "text/html": [
       "<div>\n",
       "<style scoped>\n",
       "    .dataframe tbody tr th:only-of-type {\n",
       "        vertical-align: middle;\n",
       "    }\n",
       "\n",
       "    .dataframe tbody tr th {\n",
       "        vertical-align: top;\n",
       "    }\n",
       "\n",
       "    .dataframe thead th {\n",
       "        text-align: right;\n",
       "    }\n",
       "</style>\n",
       "<table border=\"1\" class=\"dataframe\">\n",
       "  <thead>\n",
       "    <tr style=\"text-align: right;\">\n",
       "      <th></th>\n",
       "      <th>Cloth_Desc</th>\n",
       "      <th>Listed_Price</th>\n",
       "    </tr>\n",
       "  </thead>\n",
       "  <tbody>\n",
       "    <tr>\n",
       "      <th>0</th>\n",
       "      <td>Casette Linen Dress</td>\n",
       "      <td>$248.00</td>\n",
       "    </tr>\n",
       "    <tr>\n",
       "      <th>1</th>\n",
       "      <td>Jaide Dress</td>\n",
       "      <td>$328.00</td>\n",
       "    </tr>\n",
       "    <tr>\n",
       "      <th>2</th>\n",
       "      <td>Joanne Cotton Cardigan</td>\n",
       "      <td>$128.00</td>\n",
       "    </tr>\n",
       "    <tr>\n",
       "      <th>3</th>\n",
       "      <td>Mason Pant</td>\n",
       "      <td>$178.00</td>\n",
       "    </tr>\n",
       "    <tr>\n",
       "      <th>4</th>\n",
       "      <td>Lindy Knit Top</td>\n",
       "      <td>$68.00</td>\n",
       "    </tr>\n",
       "    <tr>\n",
       "      <th>...</th>\n",
       "      <td>...</td>\n",
       "      <td>...</td>\n",
       "    </tr>\n",
       "    <tr>\n",
       "      <th>781</th>\n",
       "      <td>Laredo Knit Top</td>\n",
       "      <td>$88.00</td>\n",
       "    </tr>\n",
       "    <tr>\n",
       "      <th>782</th>\n",
       "      <td>Shayla Dress</td>\n",
       "      <td>$348.00</td>\n",
       "    </tr>\n",
       "    <tr>\n",
       "      <th>783</th>\n",
       "      <td>Joanne Belted Denim Dress</td>\n",
       "      <td>$178.00</td>\n",
       "    </tr>\n",
       "    <tr>\n",
       "      <th>784</th>\n",
       "      <td>Westerly Dress</td>\n",
       "      <td>$348.00</td>\n",
       "    </tr>\n",
       "    <tr>\n",
       "      <th>785</th>\n",
       "      <td>Petites Cynthia High Rise Straight Jeans</td>\n",
       "      <td>$148.00</td>\n",
       "    </tr>\n",
       "  </tbody>\n",
       "</table>\n",
       "<p>786 rows × 2 columns</p>\n",
       "</div>"
      ],
      "text/plain": [
       "                                   Cloth_Desc Listed_Price\n",
       "0                         Casette Linen Dress     $248.00 \n",
       "1                                 Jaide Dress     $328.00 \n",
       "2                      Joanne Cotton Cardigan     $128.00 \n",
       "3                                  Mason Pant     $178.00 \n",
       "4                              Lindy Knit Top      $68.00 \n",
       "..                                        ...          ...\n",
       "781                           Laredo Knit Top      $88.00 \n",
       "782                              Shayla Dress     $348.00 \n",
       "783                 Joanne Belted Denim Dress     $178.00 \n",
       "784                            Westerly Dress     $348.00 \n",
       "785  Petites Cynthia High Rise Straight Jeans     $148.00 \n",
       "\n",
       "[786 rows x 2 columns]"
      ]
     },
     "execution_count": 37,
     "metadata": {},
     "output_type": "execute_result"
    }
   ],
   "source": [
    "Tf_copy"
   ]
  },
  {
   "cell_type": "code",
   "execution_count": 38,
   "id": "b39aa519",
   "metadata": {},
   "outputs": [],
   "source": [
    "Tf_copy = Tf_copy.rename(columns={\"Listed_Price\":\"Price\"})"
   ]
  },
  {
   "cell_type": "code",
   "execution_count": 39,
   "id": "e3735c05",
   "metadata": {},
   "outputs": [
    {
     "data": {
      "text/html": [
       "<div>\n",
       "<style scoped>\n",
       "    .dataframe tbody tr th:only-of-type {\n",
       "        vertical-align: middle;\n",
       "    }\n",
       "\n",
       "    .dataframe tbody tr th {\n",
       "        vertical-align: top;\n",
       "    }\n",
       "\n",
       "    .dataframe thead th {\n",
       "        text-align: right;\n",
       "    }\n",
       "</style>\n",
       "<table border=\"1\" class=\"dataframe\">\n",
       "  <thead>\n",
       "    <tr style=\"text-align: right;\">\n",
       "      <th></th>\n",
       "      <th>Cloth_Desc</th>\n",
       "      <th>Price</th>\n",
       "    </tr>\n",
       "  </thead>\n",
       "  <tbody>\n",
       "    <tr>\n",
       "      <th>0</th>\n",
       "      <td>Casette Linen Dress</td>\n",
       "      <td>$248.00</td>\n",
       "    </tr>\n",
       "    <tr>\n",
       "      <th>1</th>\n",
       "      <td>Jaide Dress</td>\n",
       "      <td>$328.00</td>\n",
       "    </tr>\n",
       "    <tr>\n",
       "      <th>2</th>\n",
       "      <td>Joanne Cotton Cardigan</td>\n",
       "      <td>$128.00</td>\n",
       "    </tr>\n",
       "    <tr>\n",
       "      <th>3</th>\n",
       "      <td>Mason Pant</td>\n",
       "      <td>$178.00</td>\n",
       "    </tr>\n",
       "    <tr>\n",
       "      <th>4</th>\n",
       "      <td>Lindy Knit Top</td>\n",
       "      <td>$68.00</td>\n",
       "    </tr>\n",
       "    <tr>\n",
       "      <th>...</th>\n",
       "      <td>...</td>\n",
       "      <td>...</td>\n",
       "    </tr>\n",
       "    <tr>\n",
       "      <th>781</th>\n",
       "      <td>Laredo Knit Top</td>\n",
       "      <td>$88.00</td>\n",
       "    </tr>\n",
       "    <tr>\n",
       "      <th>782</th>\n",
       "      <td>Shayla Dress</td>\n",
       "      <td>$348.00</td>\n",
       "    </tr>\n",
       "    <tr>\n",
       "      <th>783</th>\n",
       "      <td>Joanne Belted Denim Dress</td>\n",
       "      <td>$178.00</td>\n",
       "    </tr>\n",
       "    <tr>\n",
       "      <th>784</th>\n",
       "      <td>Westerly Dress</td>\n",
       "      <td>$348.00</td>\n",
       "    </tr>\n",
       "    <tr>\n",
       "      <th>785</th>\n",
       "      <td>Petites Cynthia High Rise Straight Jeans</td>\n",
       "      <td>$148.00</td>\n",
       "    </tr>\n",
       "  </tbody>\n",
       "</table>\n",
       "<p>786 rows × 2 columns</p>\n",
       "</div>"
      ],
      "text/plain": [
       "                                   Cloth_Desc     Price\n",
       "0                         Casette Linen Dress  $248.00 \n",
       "1                                 Jaide Dress  $328.00 \n",
       "2                      Joanne Cotton Cardigan  $128.00 \n",
       "3                                  Mason Pant  $178.00 \n",
       "4                              Lindy Knit Top   $68.00 \n",
       "..                                        ...       ...\n",
       "781                           Laredo Knit Top   $88.00 \n",
       "782                              Shayla Dress  $348.00 \n",
       "783                 Joanne Belted Denim Dress  $178.00 \n",
       "784                            Westerly Dress  $348.00 \n",
       "785  Petites Cynthia High Rise Straight Jeans  $148.00 \n",
       "\n",
       "[786 rows x 2 columns]"
      ]
     },
     "execution_count": 39,
     "metadata": {},
     "output_type": "execute_result"
    }
   ],
   "source": [
    "Tf_copy"
   ]
  },
  {
   "cell_type": "code",
   "execution_count": 40,
   "id": "878063f5",
   "metadata": {},
   "outputs": [
    {
     "data": {
      "text/plain": [
       "0                           Casette Linen Dress\n",
       "1                                   Jaide Dress\n",
       "2                        Joanne Cotton Cardigan\n",
       "3                                    Mason Pant\n",
       "4                                Lindy Knit Top\n",
       "                         ...                   \n",
       "781                             Laredo Knit Top\n",
       "782                                Shayla Dress\n",
       "783                   Joanne Belted Denim Dress\n",
       "784                              Westerly Dress\n",
       "785    Petites Cynthia High Rise Straight Jeans\n",
       "Name: Cloth_Desc, Length: 786, dtype: object"
      ]
     },
     "execution_count": 40,
     "metadata": {},
     "output_type": "execute_result"
    }
   ],
   "source": [
    "#stripping extra spaces in Cloth_Desc\n",
    "Tf_copy['Cloth_Desc'].str.strip()"
   ]
  },
  {
   "cell_type": "code",
   "execution_count": 41,
   "id": "9905f00e",
   "metadata": {},
   "outputs": [
    {
     "data": {
      "text/plain": [
       "0      $248.00\n",
       "1      $328.00\n",
       "2      $128.00\n",
       "3      $178.00\n",
       "4       $68.00\n",
       "        ...   \n",
       "781     $88.00\n",
       "782    $348.00\n",
       "783    $178.00\n",
       "784    $348.00\n",
       "785    $148.00\n",
       "Name: Price, Length: 786, dtype: object"
      ]
     },
     "execution_count": 41,
     "metadata": {},
     "output_type": "execute_result"
    }
   ],
   "source": [
    "#stripping extra spaces in Price\n",
    "Tf_copy['Price'].str.strip()"
   ]
  },
  {
   "cell_type": "code",
   "execution_count": 42,
   "id": "32193ae4",
   "metadata": {},
   "outputs": [
    {
     "data": {
      "text/plain": [
       "Cloth_Desc    object\n",
       "Price         object\n",
       "dtype: object"
      ]
     },
     "execution_count": 42,
     "metadata": {},
     "output_type": "execute_result"
    }
   ],
   "source": [
    "Tf_copy.dtypes"
   ]
  },
  {
   "cell_type": "code",
   "execution_count": 46,
   "id": "9021117b",
   "metadata": {},
   "outputs": [
    {
     "name": "stderr",
     "output_type": "stream",
     "text": [
      "C:\\Users\\Braydon\\AppData\\Local\\Temp/ipykernel_10964/3217758947.py:2: FutureWarning: The default value of regex will change from True to False in a future version. In addition, single character regular expressions will *not* be treated as literal strings when regex=True.\n",
      "  Tf_copy['Price'] = Tf_copy['Price'].str.replace('$','')\n"
     ]
    }
   ],
   "source": [
    "#Having to replace the $ in Price to convert to float\n",
    "Tf_copy['Price'] = Tf_copy['Price'].str.replace('$','') \n",
    "Tf_copy['Price'] = Tf_copy['Price'].str.replace(',','') "
   ]
  },
  {
   "cell_type": "code",
   "execution_count": 47,
   "id": "3b6771ad",
   "metadata": {},
   "outputs": [
    {
     "data": {
      "text/html": [
       "<div>\n",
       "<style scoped>\n",
       "    .dataframe tbody tr th:only-of-type {\n",
       "        vertical-align: middle;\n",
       "    }\n",
       "\n",
       "    .dataframe tbody tr th {\n",
       "        vertical-align: top;\n",
       "    }\n",
       "\n",
       "    .dataframe thead th {\n",
       "        text-align: right;\n",
       "    }\n",
       "</style>\n",
       "<table border=\"1\" class=\"dataframe\">\n",
       "  <thead>\n",
       "    <tr style=\"text-align: right;\">\n",
       "      <th></th>\n",
       "      <th>Cloth_Desc</th>\n",
       "      <th>Price</th>\n",
       "    </tr>\n",
       "  </thead>\n",
       "  <tbody>\n",
       "    <tr>\n",
       "      <th>0</th>\n",
       "      <td>Casette Linen Dress</td>\n",
       "      <td>248.00</td>\n",
       "    </tr>\n",
       "    <tr>\n",
       "      <th>1</th>\n",
       "      <td>Jaide Dress</td>\n",
       "      <td>328.00</td>\n",
       "    </tr>\n",
       "    <tr>\n",
       "      <th>2</th>\n",
       "      <td>Joanne Cotton Cardigan</td>\n",
       "      <td>128.00</td>\n",
       "    </tr>\n",
       "    <tr>\n",
       "      <th>3</th>\n",
       "      <td>Mason Pant</td>\n",
       "      <td>178.00</td>\n",
       "    </tr>\n",
       "    <tr>\n",
       "      <th>4</th>\n",
       "      <td>Lindy Knit Top</td>\n",
       "      <td>68.00</td>\n",
       "    </tr>\n",
       "    <tr>\n",
       "      <th>...</th>\n",
       "      <td>...</td>\n",
       "      <td>...</td>\n",
       "    </tr>\n",
       "    <tr>\n",
       "      <th>781</th>\n",
       "      <td>Laredo Knit Top</td>\n",
       "      <td>88.00</td>\n",
       "    </tr>\n",
       "    <tr>\n",
       "      <th>782</th>\n",
       "      <td>Shayla Dress</td>\n",
       "      <td>348.00</td>\n",
       "    </tr>\n",
       "    <tr>\n",
       "      <th>783</th>\n",
       "      <td>Joanne Belted Denim Dress</td>\n",
       "      <td>178.00</td>\n",
       "    </tr>\n",
       "    <tr>\n",
       "      <th>784</th>\n",
       "      <td>Westerly Dress</td>\n",
       "      <td>348.00</td>\n",
       "    </tr>\n",
       "    <tr>\n",
       "      <th>785</th>\n",
       "      <td>Petites Cynthia High Rise Straight Jeans</td>\n",
       "      <td>148.00</td>\n",
       "    </tr>\n",
       "  </tbody>\n",
       "</table>\n",
       "<p>786 rows × 2 columns</p>\n",
       "</div>"
      ],
      "text/plain": [
       "                                   Cloth_Desc    Price\n",
       "0                         Casette Linen Dress  248.00 \n",
       "1                                 Jaide Dress  328.00 \n",
       "2                      Joanne Cotton Cardigan  128.00 \n",
       "3                                  Mason Pant  178.00 \n",
       "4                              Lindy Knit Top   68.00 \n",
       "..                                        ...      ...\n",
       "781                           Laredo Knit Top   88.00 \n",
       "782                              Shayla Dress  348.00 \n",
       "783                 Joanne Belted Denim Dress  178.00 \n",
       "784                            Westerly Dress  348.00 \n",
       "785  Petites Cynthia High Rise Straight Jeans  148.00 \n",
       "\n",
       "[786 rows x 2 columns]"
      ]
     },
     "execution_count": 47,
     "metadata": {},
     "output_type": "execute_result"
    }
   ],
   "source": [
    "Tf_copy"
   ]
  },
  {
   "cell_type": "code",
   "execution_count": 48,
   "id": "21856d24",
   "metadata": {},
   "outputs": [],
   "source": [
    "Tf_copy['Price'] = Tf_copy['Price'].astype(float)"
   ]
  },
  {
   "cell_type": "code",
   "execution_count": 50,
   "id": "c1fc1c3c",
   "metadata": {},
   "outputs": [],
   "source": [
    "cloth_word_lst = []"
   ]
  },
  {
   "cell_type": "code",
   "execution_count": 52,
   "id": "f175b037",
   "metadata": {},
   "outputs": [],
   "source": [
    "for item in Tf_copy['Cloth_Desc']:\n",
    "    item = item.split()\n",
    "    for thing in item:\n",
    "        cloth_word_lst.append(thing)\n",
    "    "
   ]
  },
  {
   "cell_type": "code",
   "execution_count": 53,
   "id": "f57e2c07",
   "metadata": {},
   "outputs": [
    {
     "data": {
      "text/plain": [
       "2348"
      ]
     },
     "execution_count": 53,
     "metadata": {},
     "output_type": "execute_result"
    }
   ],
   "source": [
    "len(cloth_word_lst)"
   ]
  },
  {
   "cell_type": "code",
   "execution_count": 54,
   "id": "19917284",
   "metadata": {},
   "outputs": [],
   "source": [
    "cloth_word_count = Counter(cloth_word_lst)"
   ]
  },
  {
   "cell_type": "code",
   "execution_count": 55,
   "id": "4afc4090",
   "metadata": {},
   "outputs": [
    {
     "data": {
      "text/plain": [
       "[('Dress', 336),\n",
       " ('Top', 132),\n",
       " ('Knit', 119),\n",
       " ('Silk', 112),\n",
       " ('Linen', 63),\n",
       " ('Pant', 52),\n",
       " ('Rise', 41),\n",
       " ('High', 40),\n",
       " ('Skirt', 39),\n",
       " ('Sweater', 38),\n",
       " ('Jeans', 35),\n",
       " ('Cashmere', 32),\n",
       " ('Tank', 32),\n",
       " ('Cardigan', 27),\n",
       " ('Two', 23)]"
      ]
     },
     "execution_count": 55,
     "metadata": {},
     "output_type": "execute_result"
    }
   ],
   "source": [
    "cloth_word_count.most_common(15)"
   ]
  },
  {
   "cell_type": "code",
   "execution_count": 56,
   "id": "1c539e7e",
   "metadata": {},
   "outputs": [],
   "source": [
    "Tf_copy.to_csv('ThereFormation_Cleaned.csv',index = False)"
   ]
  },
  {
   "cell_type": "code",
   "execution_count": null,
   "id": "a661bfeb",
   "metadata": {},
   "outputs": [],
   "source": [
    "Testing---------------------------------------"
   ]
  },
  {
   "cell_type": "code",
   "execution_count": 51,
   "id": "bb453ad8",
   "metadata": {},
   "outputs": [],
   "source": [
    "cloth = shein_df_copy[\"Cloth_Desc\"][1]"
   ]
  },
  {
   "cell_type": "code",
   "execution_count": 57,
   "id": "1b07bed7",
   "metadata": {},
   "outputs": [
    {
     "data": {
      "text/plain": [
       "['Cherry', 'Embroidery', 'Lantern', 'Sleeve', 'Cardigan']"
      ]
     },
     "execution_count": 57,
     "metadata": {},
     "output_type": "execute_result"
    }
   ],
   "source": [
    "cloth.split()\n"
   ]
  },
  {
   "cell_type": "code",
   "execution_count": 60,
   "id": "ed68c8f3",
   "metadata": {},
   "outputs": [],
   "source": [
    "lst = []\n",
    "for item in cloth.split():\n",
    "    lst.append(item)"
   ]
  },
  {
   "cell_type": "code",
   "execution_count": 61,
   "id": "ee3ddcb4",
   "metadata": {},
   "outputs": [
    {
     "data": {
      "text/plain": [
       "['Cherry', 'Embroidery', 'Lantern', 'Sleeve', 'Cardigan']"
      ]
     },
     "execution_count": 61,
     "metadata": {},
     "output_type": "execute_result"
    }
   ],
   "source": [
    "lst"
   ]
  },
  {
   "cell_type": "code",
   "execution_count": null,
   "id": "3adf860c",
   "metadata": {},
   "outputs": [],
   "source": [
    "End of Testing-------------------------------"
   ]
  }
 ],
 "metadata": {
  "kernelspec": {
   "display_name": "Python 3 (ipykernel)",
   "language": "python",
   "name": "python3"
  },
  "language_info": {
   "codemirror_mode": {
    "name": "ipython",
    "version": 3
   },
   "file_extension": ".py",
   "mimetype": "text/x-python",
   "name": "python",
   "nbconvert_exporter": "python",
   "pygments_lexer": "ipython3",
   "version": "3.9.7"
  }
 },
 "nbformat": 4,
 "nbformat_minor": 5
}
