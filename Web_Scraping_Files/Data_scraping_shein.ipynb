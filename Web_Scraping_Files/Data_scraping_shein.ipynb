{
 "cells": [
  {
   "cell_type": "code",
   "execution_count": 7,
   "id": "356f2528",
   "metadata": {},
   "outputs": [
    {
     "name": "stdout",
     "output_type": "stream",
     "text": [
      "Requirement already satisfied: selenium in c:\\users\\braydon\\anaconda3\\lib\\site-packages (4.8.0)\n",
      "Requirement already satisfied: trio~=0.17 in c:\\users\\braydon\\anaconda3\\lib\\site-packages (from selenium) (0.22.0)\n",
      "Requirement already satisfied: trio-websocket~=0.9 in c:\\users\\braydon\\anaconda3\\lib\\site-packages (from selenium) (0.9.2)\n",
      "Requirement already satisfied: certifi>=2021.10.8 in c:\\users\\braydon\\anaconda3\\lib\\site-packages (from selenium) (2021.10.8)\n",
      "Requirement already satisfied: urllib3[socks]~=1.26 in c:\\users\\braydon\\anaconda3\\lib\\site-packages (from selenium) (1.26.7)\n",
      "Requirement already satisfied: async-generator>=1.9 in c:\\users\\braydon\\anaconda3\\lib\\site-packages (from trio~=0.17->selenium) (1.10)\n",
      "Requirement already satisfied: idna in c:\\users\\braydon\\anaconda3\\lib\\site-packages (from trio~=0.17->selenium) (3.2)\n",
      "Requirement already satisfied: outcome in c:\\users\\braydon\\anaconda3\\lib\\site-packages (from trio~=0.17->selenium) (1.2.0)\n",
      "Requirement already satisfied: sniffio in c:\\users\\braydon\\anaconda3\\lib\\site-packages (from trio~=0.17->selenium) (1.2.0)\n",
      "Requirement already satisfied: exceptiongroup>=1.0.0rc9 in c:\\users\\braydon\\anaconda3\\lib\\site-packages (from trio~=0.17->selenium) (1.1.0)\n",
      "Requirement already satisfied: sortedcontainers in c:\\users\\braydon\\anaconda3\\lib\\site-packages (from trio~=0.17->selenium) (2.4.0)\n",
      "Requirement already satisfied: attrs>=19.2.0 in c:\\users\\braydon\\anaconda3\\lib\\site-packages (from trio~=0.17->selenium) (21.2.0)\n",
      "Requirement already satisfied: cffi>=1.14 in c:\\users\\braydon\\anaconda3\\lib\\site-packages (from trio~=0.17->selenium) (1.14.6)\n",
      "Requirement already satisfied: pycparser in c:\\users\\braydon\\anaconda3\\lib\\site-packages (from cffi>=1.14->trio~=0.17->selenium) (2.20)\n",
      "Requirement already satisfied: wsproto>=0.14 in c:\\users\\braydon\\anaconda3\\lib\\site-packages (from trio-websocket~=0.9->selenium) (1.2.0)\n",
      "Requirement already satisfied: PySocks!=1.5.7,<2.0,>=1.5.6 in c:\\users\\braydon\\anaconda3\\lib\\site-packages (from urllib3[socks]~=1.26->selenium) (1.7.1)\n",
      "Requirement already satisfied: h11<1,>=0.9.0 in c:\\users\\braydon\\anaconda3\\lib\\site-packages (from wsproto>=0.14->trio-websocket~=0.9->selenium) (0.14.0)\n",
      "Note: you may need to restart the kernel to use updated packages.\n"
     ]
    }
   ],
   "source": [
    "pip install selenium"
   ]
  },
  {
   "cell_type": "code",
   "execution_count": 97,
   "id": "93c425e2",
   "metadata": {},
   "outputs": [],
   "source": [
    "number_of_pages = 40"
   ]
  },
  {
   "cell_type": "code",
   "execution_count": 6,
   "id": "a5596125",
   "metadata": {},
   "outputs": [],
   "source": [
    "import os\n",
    "import selenium.webdriver as webdriver\n",
    "from selenium.webdriver.firefox.service import Service\n",
    "from selenium.webdriver.firefox.options import Options\n",
    "from selenium.webdriver.common.by import By\n",
    "from selenium.webdriver.common.keys import Keys\n",
    "import time\n",
    "\n",
    "user_agent = \"Mozilla/5.0 (Windows NT 10.0; Win64; x64; rv:109.0) Gecko/20100101 Firefox/109.0\"\n",
    "firefox_driver = os.path.join(os.getcwd(),'Drivers',\"geckodriver.exe\")\n",
    "firefox_service = Service(firefox_driver)\n",
    "firefox_options = Options()\n",
    "firefox_options.set_preference('general.useragent.override',user_agent)\n",
    "\n",
    "#Launching Browser\n",
    "browser = webdriver.Firefox(service = firefox_service, options = firefox_options)\n",
    "browser.get(\"https://us.shein.com/Women-Clothing-c-2030.html?ici=us_tab01navbar05&scici=navbar_WomenHomePage~~tab01navbar05~~5~~real_2030~~~~0&src_module=topcat&src_tab_page_id=page_home1675721225481&src_identifier=fc%3DWomen%60sc%3DCLOTHING%60tc%3D0%60oc%3D0%60ps%3Dtab01navbar05%60jc%3Dreal_2030&srctype=category&userpath=category-CLOTHING\")"
   ]
  },
  {
   "cell_type": "code",
   "execution_count": 7,
   "id": "fb9f8e78",
   "metadata": {},
   "outputs": [],
   "source": [
    "#url = 'https://us.shein.com/Women-Clothing-c-2030.html?ici=us_tab01navbar05&scici=navbar_WomenHomePage~~tab01navbar05~~5~~real_2030~~~~0&src_module=topcat&src_tab_page_id=page_home1675721225481&src_identifier=fc%3DWomen%60sc%3DCLOTHING%60tc%3D0%60oc%3D0%60ps%3Dtab01navbar05%60jc%3Dreal_2030&srctype=category&userpath=category-CLOTHING&page='+str(page)\n",
    "clothing_lst = []\n",
    "clothing_lst_website = browser.find_elements(By.CLASS_NAME, 'S-product-item__name') \n",
    "#print(len(clothing_list))\n",
    "for thing in range(len(clothing_lst_website)):\n",
    "    clothing_lst.append(clothing_lst_website[thing].text)    \n",
    "#---------------------------------------------------------------------------------------------------------------------------    \n",
    "listed_price_lst = []\n",
    "listed_price_lst_website = browser.find_elements(By.CLASS_NAME,'S-product-item__price')\n",
    "#print(len(listed_price_lst_website))\n",
    "for thing in range(len(listed_price_lst_website)):\n",
    "    listed_price_lst.append(listed_price_lst_website[thing].text)\n",
    "#---------------------------------------------------------------------------------------------------------------------------\n",
    "clothing_lst_website = clothing_lst_website.clear()\n",
    "listed_price_lst_website = listed_price_lst_website.clear()"
   ]
  },
  {
   "cell_type": "code",
   "execution_count": 9,
   "id": "36dcbb2e",
   "metadata": {
    "scrolled": true
   },
   "outputs": [
    {
     "name": "stdout",
     "output_type": "stream",
     "text": [
      "120 120\n"
     ]
    }
   ],
   "source": [
    "print(len(listed_price))"
   ]
  },
  {
   "cell_type": "code",
   "execution_count": 41,
   "id": "e64bed2c",
   "metadata": {},
   "outputs": [],
   "source": [
    "def web_scraping_page(page_num):\n",
    "    user_agent = \"Mozilla/5.0 (Windows NT 10.0; Win64; x64; rv:109.0) Gecko/20100101 Firefox/109.0\"\n",
    "    firefox_driver = os.path.join(os.getcwd(),'Drivers',\"geckodriver.exe\")\n",
    "    firefox_service = Service(firefox_driver)\n",
    "    firefox_options = Options()\n",
    "    firefox_options.set_preference('general.useragent.override',user_agent)\n",
    "    browser = webdriver.Firefox(service = firefox_service, options = firefox_options)\n",
    "    \n",
    "\n",
    "    url = 'https://us.shein.com/Women-Clothing-c-2030.html?ici=us_tab01navbar05&scici=navbar_WomenHomePage~~tab01navbar05~~5~~real_2030~~~~0&src_module=topcat&src_tab_page_id=page_home1675721225481&src_identifier=fc%3DWomen%60sc%3DCLOTHING%60tc%3D0%60oc%3D0%60ps%3Dtab01navbar05%60jc%3Dreal_2030&srctype=category&userpath=category-CLOTHING&page='+str(page_num)\n",
    "    \n",
    "    browser.get(url)\n",
    "    browser.execute_script(\"window.scrollBy(0,250);\")\n",
    "    \n",
    "    time.sleep(20)\n",
    "    \n",
    "    #clothing names\n",
    "    clothing_lst = []\n",
    "    clothing_lst_website = browser.find_elements(By.CLASS_NAME, 'S-product-item__name') \n",
    "    #prices\n",
    "    listed_price_lst = []\n",
    "    listed_price_lst_website = browser.find_elements(By.CLASS_NAME,'S-product-item__price')   \n",
    "       \n",
    "    for thing in range(len(clothing_lst_website)):\n",
    "        clothing_lst.append(clothing_lst_website[thing].text)\n",
    "        listed_price_lst.append(listed_price_lst_website[thing].text)\n",
    "       \n",
    "    browser.close()    \n",
    "    return clothing_lst, listed_price_lst  "
   ]
  },
  {
   "cell_type": "code",
   "execution_count": 37,
   "id": "39ee9ebe",
   "metadata": {},
   "outputs": [
    {
     "ename": "IndexError",
     "evalue": "list index out of range",
     "output_type": "error",
     "traceback": [
      "\u001b[1;31m---------------------------------------------------------------------------\u001b[0m",
      "\u001b[1;31mIndexError\u001b[0m                                Traceback (most recent call last)",
      "\u001b[1;32m~\\AppData\\Local\\Temp/ipykernel_18764/1699612996.py\u001b[0m in \u001b[0;36m<module>\u001b[1;34m\u001b[0m\n\u001b[1;32m----> 1\u001b[1;33m \u001b[0mprint\u001b[0m\u001b[1;33m(\u001b[0m\u001b[0mweb_scraping_page\u001b[0m\u001b[1;33m(\u001b[0m\u001b[1;36m1\u001b[0m\u001b[1;33m)\u001b[0m\u001b[1;33m)\u001b[0m\u001b[1;33m\u001b[0m\u001b[1;33m\u001b[0m\u001b[0m\n\u001b[0m",
      "\u001b[1;32m~\\AppData\\Local\\Temp/ipykernel_18764/1016453601.py\u001b[0m in \u001b[0;36mweb_scraping_page\u001b[1;34m(page_num)\u001b[0m\n\u001b[0;32m     28\u001b[0m         \u001b[0mclothing_lst\u001b[0m\u001b[1;33m.\u001b[0m\u001b[0mappend\u001b[0m\u001b[1;33m(\u001b[0m\u001b[0mclothing_lst_website\u001b[0m\u001b[1;33m[\u001b[0m\u001b[0mthing\u001b[0m\u001b[1;33m]\u001b[0m\u001b[1;33m.\u001b[0m\u001b[0mtext\u001b[0m\u001b[1;33m)\u001b[0m\u001b[1;33m\u001b[0m\u001b[1;33m\u001b[0m\u001b[0m\n\u001b[0;32m     29\u001b[0m         \u001b[0mlisted_price_lst\u001b[0m\u001b[1;33m.\u001b[0m\u001b[0mappend\u001b[0m\u001b[1;33m(\u001b[0m\u001b[0mlisted_price_lst_website\u001b[0m\u001b[1;33m[\u001b[0m\u001b[0mthing\u001b[0m\u001b[1;33m]\u001b[0m\u001b[1;33m.\u001b[0m\u001b[0mtext\u001b[0m\u001b[1;33m)\u001b[0m\u001b[1;33m\u001b[0m\u001b[1;33m\u001b[0m\u001b[0m\n\u001b[1;32m---> 30\u001b[1;33m         \u001b[0mcolor_lst\u001b[0m\u001b[1;33m.\u001b[0m\u001b[0mappend\u001b[0m\u001b[1;33m(\u001b[0m\u001b[0mcolor_lst_website\u001b[0m\u001b[1;33m[\u001b[0m\u001b[0mthing\u001b[0m\u001b[1;33m]\u001b[0m\u001b[1;33m.\u001b[0m\u001b[0mtext\u001b[0m\u001b[1;33m)\u001b[0m\u001b[1;33m\u001b[0m\u001b[1;33m\u001b[0m\u001b[0m\n\u001b[0m\u001b[0;32m     31\u001b[0m     \u001b[0mbrowser\u001b[0m\u001b[1;33m.\u001b[0m\u001b[0mclose\u001b[0m\u001b[1;33m(\u001b[0m\u001b[1;33m)\u001b[0m\u001b[1;33m\u001b[0m\u001b[1;33m\u001b[0m\u001b[0m\n\u001b[0;32m     32\u001b[0m     \u001b[1;32mreturn\u001b[0m \u001b[0mclothing_lst\u001b[0m\u001b[1;33m,\u001b[0m \u001b[0mlisted_price_lst\u001b[0m\u001b[1;33m\u001b[0m\u001b[1;33m\u001b[0m\u001b[0m\n",
      "\u001b[1;31mIndexError\u001b[0m: list index out of range"
     ]
    }
   ],
   "source": [
    "print(web_scraping_page(1))"
   ]
  },
  {
   "cell_type": "code",
   "execution_count": 31,
   "id": "2aa963a2",
   "metadata": {},
   "outputs": [
    {
     "name": "stdout",
     "output_type": "stream",
     "text": [
      "(['All Over Print Wrap Neck Tie Back Dress', 'SHEIN Unity Split Hem Tee & Leggings', 'ROMWE Academia Hollow Out Crop Sweater', 'One Shoulder Cut Out Bodysuit', 'SHEIN Unity Single Button Lapel Collar Blazer', 'Gold Plaid Print Petal Sleeve Blouse', 'High Waist Ripped Skinny Jeans', 'Double Pocket Drop Shoulder Duster Cardigan', 'Flounce Sleeve Belted Sequins Dress', 'Ruched Pleated Detail A-line Dress', 'SHEIN Unity Colorblock Contrast Collar Blouse', 'Floral Embroidery Pleated Hem Lace Cami Dress', 'SHEIN EZwear Button Front Drop Shoulder PU Leather Coat', 'SHEIN BAE Solid Tank Bodysuit', 'SHEIN Frenchy Contrast Guipure Lace Bow Back Eyelet Detail Sweater', 'SHEIN BIZwear Plaid Wide Leg Pants', 'SHEIN VCAY Chevron Print Backless Halter Top', 'EMERY ROSE Chevron Pattern Drop Shoulder Duster Cardigan', 'SHEIN Unity Round Neck Batwing Sleeve Sweater', 'Solid Zip Up Drop Shoulder Thermal Lined Crop Hoodie', 'Ditsy Floral Ring Linked Bikini Swimsuit', 'Scallop Trim Drop Shoulder Sweater', 'Solid High Waist Flap Pocket Cargo Pants', 'SHEIN VCAY Twist Front Open Back Crop Top', 'Plaid Print Belted Dress', 'SHEIN EZwear Drawstring Hem Vest Puffer Coat', 'Asymmetrical Neck Slim Fit Bodysuit', 'Contrast Binding Rib Micro Triangle Bikini Swimsuit', 'SHEIN Belle One Shoulder Wide Leg Jumpsuit', 'Tie Back Batwing Sleeve Solid Blouse', 'SHEIN High Waisted Graphic Ripped Jeans', 'EMERY ROSE Floral Print Raglan Sleeve Dress', 'Letter Graphic Thermal Lined Sweatshirt', 'SHEIN EZwear Tie Dye Drop Shoulder Tee', 'Striped Drop Shoulder Sweater', 'Heart Print Tie Backless Ruffle Hem Dress', 'Polka Dot Sleeveless Ruffle Hem A-line Dress', '3pack Floral Print Knot Front Bikini Swimsuit & Kimono', 'SHEIN MOD Tie Backless Ruched Halter Top', 'SHEIN Frenchy Wrap Cross Drop Shoulder Tee', 'Floral Print Scoop Neck Dress', 'SHEIN Frenchy Lantern Sleeve Pleated Hem Belted Dress', 'Halter Triangle Bikini Top', 'Surplice Neck Self Tie Ruffle A-line Dress', 'Tie Front Ruched Jumpsuit', 'Ditsy Floral Underwire Bikini Top', 'SHEIN Flap Pocket Cargo Jeans', 'Cut-out Bandeau Bikini Swimsuit', 'Allover Print Notched Neck Bishop Sleeve Blouse', 'EMERY ROSE Lantern Sleeve Belted Tunic Dress', 'Drop Shoulder Open Front Crop Cardigan', 'Geo Print Split Knot Hem Belted Cami Jumpsuit', 'Solid Ruched Side Wrap Dress', '3pack Random Tropical Print Halter Drawstring Side Bikini Swimsuit', 'Floral Bandeau High Cut Bikini Swimsuit', 'SHEIN EZwear Solid Twist Waist Flare Leg Pants', 'Palm Random Print Adjustable Strap Bikini Swimsuit', 'Random Floral Print Halter Smocked Tie Side Bikini Swimsuit', 'Slant Pocket Skinny Jeans', 'Zebra Striped Print Cut Out Cami Dress', 'SHEIN Tall Plunging Neck Ruched Bodycon Dress', 'Hollow Out Tie Back Cover Up', 'Striped Ruched One Piece Swimsuit', 'Colorblock Raglan Sleeve Sweater', 'Criss Cross Contrast Binding Cami Top', 'SHEIN PETITE Solid Scoop Neck Unitard Jumpsuit', 'Bikinx Floral Print Whip Stitch Bikini Swimsuit', 'Colorblock Cut Out Tie Back Underwire One Piece Swimsuit', 'Lantern Sleeve Sweater Dress', 'SHEIN Frenchy Ruffle Armhole Ditsy Floral Dress', 'SHEIN SXY Crisscross Tie Backless Crop Halter Top & Bodycon Skirt', 'Colorblock Whip Stitch Triangle Bikini Top', 'Lantern Sleeve Twist Front Wrap Hem Satin Dress', 'Solid Button Up Shirt', 'EMERY ROSE Notched Neck Dolman Sleeve Shirt', 'Random Plant Print Bikini Swimsuit', 'Floral Print Belted Dress', 'SHEIN EZwear Drop Shoulder Button Up Shirt', 'SHEIN SXY Puff Sleeve Double Button Blazer & Pants', 'SHEIN Unity Plaid Belted Self-Tie Mini Dress', 'Floral Print Tie Neck Butterfly Sleeve Blouse', 'Solid Drop Shoulder Shirt', 'SHEIN PETITE Shirred Waist Layered Hem Skirt', 'EMERY ROSE Drop Shoulder Zip Up Hooded Cardigan', 'SHEIN SXY Mesh Panel Bodycon Dress', 'SHEIN Unity Solid High Waist Leggings', 'EMERY ROSE Notched Neckline Lantern Sleeve Dress', 'SHEIN ICON Solid Flare Leg Pants', 'Slogan Graphic Thermal Lined Sweatshirt', 'EMERY ROSE Floral Print Mock Neck Belted Dress', 'Floral Print Tie Neck Flounce Sleeve Dress Without Belt', 'SHEIN SXY Color Block Lettuce Trim Pointelle Knit Tube Sweater Dress', 'Heart Pattern Mock Neck Drop Shoulder Sweater', 'SHEIN BAE Solid Long Sleeve Cheeky Bodysuit', 'SHEIN VCAY Tie Front Split Hem Dress', 'SHEIN Frenchy Swiss Dot Contrast Guipure Lace Blouse', 'Moustache Effect Flare Leg Jeans', 'SHEIN EZwear Ribbed Knit Flare Leg Pants', 'Ripped Raw Cut Straight Leg Jeans', 'Notched Neck Leaf Print Belted Dress', 'SHEIN EZwear Notch Neck Lettuce Edge Rib-knit Tank Top', 'Colorblock Contrast Collar Shirt', 'Random Print Smocked Halter Bikini Swimsuit', 'Drawstring Drop Shoulder Thermal Lined Hoodie & Sweatpants', 'Allover Print Shirred Cuff Bishop Sleeve Blouse', 'SHEIN Unity Wide Waistband Solid Leggings', 'SHEIN Frenchy Lettuce Trim Trumpet Sleeve Ribbed Knit Tee', 'Tie Side Bikini Bottom', 'High Waist Ripped Straight Leg Jeans', 'SHEIN EZwear Contrast Lace Crop Cami Top', 'SHEIN ICON Stripe Pattern Drop Shoulder Super Crop Sweater Without Cami', 'Plain Asymmetrical Cut-out Bikini Swimsuit', 'SHEIN MOD Ruched Bust Hanky Hem Wide Straps Top', 'Paper Bag Waist Wide Leg Pants', 'Dolman Sleeve Keyhole Back Belted Jumpsuit', 'SHEIN ICON Cut Out Front Crop Tank Top', 'Drop Shoulder Crop Solid Cardigan', 'Twist Asymmetrical Hem Dolman Sleeve Tee', 'Letter Graphic Thermal Lined Sweatshirt', 'Frill Trim Eyelet Embroidery Push Up Bikini Swimsuit'], ['$13.00\\n-5%', '$15.00\\n-5%', '$13.00\\n-5%', '$6.49\\n$7.49', '$16.49\\n-5%', '$12.00\\n-5%', '$10.50\\n$21.00', '$21.49\\n-5%', '$33.00\\n-5%', '$16.49\\n-5%', '$5.75\\n$12.49', '$16.49\\n-5%', '$25.00\\n-5%', '$11.49\\n-5%', '$19.00\\n-5%', '$14.00\\n-5%', '$4.00\\n-5%', '$25.49\\n-5%', '$18.00\\n-5%', '$11.00\\n-5%', '$8.00\\n$9.00', '$15.49\\n-5%', '$12.49\\n$17.00', '$7.00\\n$8.00', '$8.00\\n$14.00', '$18.00\\n-5%', '$7.00\\n$7.49', '$11.00\\n-5%', '$18.00\\n-5%', '$11.00\\n-5%', '$17.99\\n$23.00', '$10.49\\n$12.00', '$11.49\\n$12.00', '$6.80\\n$7.00', '$13.99\\n$17.00', '$15.00\\n$16.49', '$15.00\\n-5%', '$19.00\\n-5%', '$6.00\\n-5%', '$10.00\\n$11.00', '$10.49\\n-5%', '$20.00\\n-5%', '$5.00\\n-5%', '$19.49\\n$20.00', '$18.00\\n-5%', '$7.49\\n$8.49', '$24.49\\n-5%', '$7.49\\n$8.49', '$11.00\\n-5%', '$7.75\\n$15.00', '$13.00\\n-5%', '$17.49\\n-5%', '$14.49\\n-5%', '$12.69\\n$18.00', '$8.00\\n$9.00', '$5.25\\n$11.49', '$11.00\\n-5%', '$11.00\\n-5%', '$19.00\\n-5%', '$11.49\\n-5%', '$8.88\\n$13.00', '$14.00\\n-5%', '$12.00\\n-5%', '$18.49\\n-5%', '$4.00\\n-5%', '$5.75\\n$11.00', '$13.00\\n-5%', '$12.49\\n-5%', '$21.99\\n$28.00', '$11.49\\n-5%', '$12.00\\n-5%', '$7.00\\n$8.00', '$23.00\\n-5%', '$13.49\\n-5%', '$8.49\\n$9.49', '$8.49\\n$9.49', '$14.49\\n-5%', '$18.00\\n-5%', '$31.00\\n-5%', '$7.50\\n$13.00', '$11.00\\n-5%', '$12.49\\n-5%', '$12.00\\n-5%', '$22.49\\n-5%', '$9.49\\n$11.00', '$8.00\\n$9.49', '$9.00\\n$10.00', '$6.00\\n$13.00', '$10.00\\n$10.49', '$9.25\\n$16.49', '$17.49\\n-5%', '$15.00\\n-5%', '$20.00\\n-5%', '$10.49\\n$12.00', '$19.00\\n-5%', '$8.00\\n-5%', '$19.49\\n$25.00', '$10.00\\n$11.49', '$27.00\\n-5%', '$13.49\\n-5%', '$4.49\\n$5.00', '$14.49\\n-5%', '$11.49\\n-5%', '$12.35\\n$26.00', '$9.00\\n$10.00', '$9.00\\n$10.00', '$7.00\\n-5%', '$4.98\\n$6.00', '$18.49\\n$23.49', '$5.00\\n$9.00', '$9.25\\n$16.49', '$13.49\\n-5%', '$8.00\\n-5%', '$13.49\\n-5%', '$23.00\\n-5%', '$6.49\\n$7.49', '$12.49\\n-5%', '$9.00\\n$10.49', '$9.35\\n$11.00', '$11.00\\n-5%'])\n"
     ]
    }
   ],
   "source": [
    "print(web_scraping_page(2))"
   ]
  },
  {
   "cell_type": "code",
   "execution_count": 48,
   "id": "46766ba8",
   "metadata": {},
   "outputs": [],
   "source": [
    "entire_clothing_names = []\n",
    "entire_prices = []\n",
    "\n",
    "max_num_pages = 40\n",
    "\n",
    "for i in range(max_num_pages):\n",
    "    entire_clothing_names.append(web_scraping_page(i)[0])\n",
    "    entire_prices.append(web_scraping_page(i)[1])"
   ]
  },
  {
   "cell_type": "code",
   "execution_count": 52,
   "id": "b85680ef",
   "metadata": {},
   "outputs": [
    {
     "name": "stdout",
     "output_type": "stream",
     "text": [
      "['Lace Bustier Crop Cami Top', 'SHEIN Unity Mesh Panel Ruched Glitter Top', 'High Neck Slim Fit Basic Tee', 'EMERY ROSE Floral Print Tunic Dress', 'SHEIN SXY Allover Print Criss Cross Cut Out Tie Back Unitard Jumpsuit', 'Letter Embroidery Drop Shoulder Thermal Sweatshirt', 'SHEIN SXY Scoop Neck Unitard Jumpsuit', 'Ripped Knit Knit Tube Top With Bolero', 'American Flag And Letter Graphic Drop Shoulder Tee', 'SHEIN BAE Crop Tank Top & Split Hem Skirt Set', 'SHEIN PETITE Drawstring Waist Ruched Pants', 'O-ring Cut Out Shoulder Pads Split Thigh Dress', 'SHEIN EZwear Cartoon Dinosaur Print Crop Tee', 'SHEIN EZwear Solid Rib-knit Bodycon Dress', 'Ditsy Floral High Waisted Bikini Swimsuit', 'SHEIN VCAY Double V-neck Pineapple Print Cami Dress', 'Rib Micro Triangle High Cut Bikini Swimsuit', 'EMERY ROSE Lantern Sleeve Guipure Lace Panel Ruffle Hem Floral Dress', 'SHEIN VCAY Swiss Dot One Shoulder Ruffle Trim Layered Hem Belted Dress', 'Guipure Lace Insert Blouse', 'SHEIN Unity Twist Front Flounce Sleeve Plisse Crop Top', 'SHEIN Unity Zip Half Placket Unitard Jumpsuit', 'Bikinx Contrast Trim Lace Up Back Bikini Swimsuit', 'Ring Linked Micro Triangle Thong Bikini Swimsuit', 'Letter Graphic Zip Up Thermal Lined Hoodie', 'SHEIN X Aurora Celli High Waist Solid Pleated Skirt', 'Colorblock Button Front Tank Top', 'Cut Out Front Cold Shoulder Tee', 'Striped Turtleneck Drop Shoulder Sweater', 'Tie Back Halterneck Ruffle Hem Schiffy Dress', 'Double Crazy Velvet Plunging Neck Belted Split Thigh Dress', 'Butterfly Print Drop Shoulder Tee', 'ROMWE PUNK Grunge Two Tone Star Print Crop Tee', 'EMERY ROSE Gingham Puff Sleeve Dress', 'Tie Dye Round Neck Sweatshirt', 'Dual Pocket Keyhole Back Cami Jumpsuit Without Tee', 'SHEIN SXY Solid Backless Satin Cami Dress', 'Tie Neck Lantern Sleeve Smock Dress', 'Solid Elastic Waist Slant Pocket Sweatpants', 'SHEIN ICON Ring Linked Tie Backless Halter Top', '3pack Ditsy Floral Micro Triangle Bikini Swimsuit & Beach Skirt', 'SHEIN PETITE High Waist Pocket Side Wide Jeans', 'Bustier Contrast Lace Cami Top', 'SHEIN BAE Cut Out Bodycon Dress', 'Solid Flounce Sleeve Smock Dress', 'Ribbed Frill Trim Halter Triangle Bikini Swimsuit', 'Raglan Sleeve Contrast Panel Tee', 'Drop Shoulder High Low Hem Pullover & Sweatpants With Tank Top', 'SHEIN Letter Graphic Top & Camo Joggers Set', 'Bleach Wash Ripped Detail Butterfly Jeans', 'Light Washed Skinny Jeans', 'Plaid Print Drop Shoulder Jacket', 'Striped Textured Bandeau Bikini Swimsuit', 'Leopard Print Frill Mock Neck Puff Sleeve Blouse', 'SHEIN Tall Houndstooth Panel Tie Neck Flounce Sleeve Dress', 'SHEIN EZwear Frilled Strap Tie Front Ruched Bust Crop Top', 'Floral Halter Triangle Bikini Top', 'Button Detail Drop Shoulder Tee', 'SHEIN BAE Solid High Stretch Fitted Tee', 'Wrap Cross Drop Shoulder Cable Knit Sweater', 'Joyfunear One Shoulder Wrap Split Thigh Sequin Formal Dress', 'Heart & Checker Pattern Sweater Vest', 'SHEIN SXY Solid Mock Neck Unitard Jumpsuit', 'SHEIN SXY Solid Halter PU Leather Dress', 'SHEIN BASICS Solid Rib-knit Slim Tee', 'Lace Insert Sheer Mesh Bodysuit', 'Colorblock Wrap Bikini Swimsuit', 'Solid Ribbed Knit Drop Shoulder Sweater', 'Mountain & Slogan Graphic Drop Shoulder Tee', 'SHEIN SXY Halterneck Tied Backless Cut-out Bodycon Dress', 'SHEIN MOD Solid Corduroy Cami Top', 'SHEIN PETITE Criss-cross Tie Backless Cami Dress', 'SHEIN EZwear Flap Pocket Button Front Corduroy Jacket', 'Solid Fringe Cami Dress', 'Solid Ribbed Knit Crop Sweater', 'DAZY Solid Snap Button Front Tee', 'ROMWE Solid Hollow Out Crop Sweater', 'Floral Print Tie Shoulder Shirred Back Cami Dress', 'Crisscross Halter Knit Top', 'SHEIN PETITE Ruched Side Tulip Hem Satin Cami Bodycon Dress', 'SHEIN EZwear Solid Drawstring Waist Slant Pocket Sweatpants', 'Shell Detail Crochet Cover Up Skirt Without Bikini', 'Heart & Floral Print Tee', '4pack Solid Crop Tank Top', 'SHEIN EZwear Rib-knit Cropped Cami Top', 'SHEIN PETITE Ripped Bootcut Leg Jeans', 'Allover Print Slant Pockets High Waist Wide Leg Jeans', 'SHEIN Tall Solid Slim Fit Bodysuit', 'DAZY Two Tone Drop Shoulder Sweater', 'Plants Print Tie Back Cami Dress', 'SHEIN Unity Shawl Collar Gathered Sleeve Flap Detail Blazer', '1pc Heart & Slogan Graphic Tee', 'SHEIN Unity Mid-Rise Textured Skinny Pants', 'Ruched Tie Side Bikini Swimsuit', '1pc Flap Pocket Overalls', 'SHEIN SXY High Waist Ripped Frayed Hem Denim Shorts', 'SHEIN SXY Halter Neck Backless Bodycon Dress', 'Floral Print Twist Cut Out Shirred Ruffle Hem Cami Dress', 'SHEIN X LOLITA & SOFIA Solid High Waist Straight Leg PU Leather Pants', 'SHEIN PETITE Solid Bodycon Tube Dress', 'High Waist Light Washed Ripped Straight Jeans', 'SHEIN Belle Fringe Trim Contrast Sequin Cami Dress', 'EMERY ROSE Keyhole Back Floral Print Tunic Dress', 'Mock Neck Lantern Sleeve Sweater', 'Slogan & Tree Print Thermal Lined Pullover', 'Heart Pattern Drop Shoulder Sweater', 'Crisscross Tie Backless Schiffy Slip Dress', 'Solid Backless Halter Dress', 'Raw Hem Ripped Denim Shorts', 'EMERY ROSE Knotted Self-Tie Button-Front Shirt', 'SHEIN Unity Round Neck Batwing Sleeve Sweater', 'Ditsy Floral Print Tie Shoulder Shirred Cami Dress', 'Floral Print Wrap Belted Jumpsuit', 'Solid Rib Knit Top', 'SHEIN PETITE High Waist Flap Pocket Cargo Jeans', 'SHEIN BAE Honeycomb Textured Criss Cross Backless Crop Halter Top & Skirt', 'Joyfunear Sequin Bodice Backless Mesh Cami Formal Evening Gowns', 'Rainbow And Slogan Graphic Tee', '2pack Chiffon Knot Cover Up', 'SHEIN BAE Solid Criss Cross Tie Backless Split Hem Dress'] ['$7.49\\n$10.00', '$7.49\\n-5%', '$8.49\\n$9.49', '$14.00\\n-5%', '$14.00\\n-5%', '$15.49\\n-5%', '$23.49\\n-5%', '$9.49\\n$10.00', '$9.00\\n$10.49', '$11.99\\n$15.49', '$18.00\\n-5%', '$6.00\\n$6.49', '$5.00\\n$8.00', '$10.49\\n-5%', '$6.00\\n$7.00', '$8.00\\n$9.00', '$29.00\\n-5%', '$18.00\\n-5%', '$10.00\\n-5%', '$13.00\\n-5%', '$18.49\\n-5%', '$12.49\\n-5%', '$10.00\\n-5%', '$19.00\\n-5%', '$13.00\\n-5%', '$7.49\\n$8.49', '$10.49\\n-5%', '$16.00\\n$18.00', '$26.49\\n-5%', '$29.49\\n-5%', '$9.49\\n$10.00', '$9.00\\n$10.00', '$24.00\\n-5%', '$10.00\\n$14.00', '$14.00\\n-5%', '$18.00\\n-5%', '$18.00\\n-5%', '$14.00\\n-5%', '$5.49\\n$6.49', '$11.00\\n-5%', '$28.00\\n-5%', '$6.49\\n$7.49', '$14.49\\n-5%', '$14.00\\n-5%', '$7.49\\n$8.49', '$7.00\\n$7.49', '$22.00\\n-5%', '$20.00\\n-5%', '$24.49\\n-5%', '$20.49\\n-5%', '$20.00\\n-5%', '$11.49\\n-5%', '$11.49\\n-5%', '$7.75\\n$14.00', '$5.00\\n-5%', '$5.48\\n$6.00', '$13.00\\n-5%', '$6.00\\n-5%', '$21.49\\n-5%', '$31.49\\n-5%', '$12.49\\n$15.00', '$8.50\\n$17.00', '$9.49\\n$10.49', '$9.49\\n$10.49', '$10.49\\n-5%', '$12.49\\n-5%', '$17.49\\n-5%', '$9.49\\n$10.00', '$5.00\\n$7.00', '$8.49\\n$10.00', '$13.00\\n-5%', '$24.00\\n-5%', '$19.00\\n-5%', '$12.00\\n-5%', '$7.49\\n$8.49', '$13.00\\n-5%', '$18.49\\n-5%', '$10.00\\n-5%', '$11.00\\n-5%', '$14.49\\n-5%', '$11.00\\n-5%', '$7.00\\n$8.00', '$19.00\\n-5%', '$4.49\\n$5.49', '$17.49\\n$22.49', '$24.49\\n-5%', '$6.49\\n$7.49', '$22.00\\n-5%', '$20.00\\n-5%', '$23.00\\n-5%', '$7.49\\n$8.49', '$9.49\\n$11.00', '$5.63\\n$9.00', '$24.00\\n-5%', '$17.00\\n-5%', '$7.00\\n-5%', '$16.49\\n-5%', '$21.00\\n-5%', '$6.49\\n$7.49', '$25.00\\n-5%', '$17.00\\n-5%', '$7.49\\n$8.49', '$19.00\\n-5%', '$11.00\\n-5%', '$19.49\\n-5%', '$16.00\\n-5%', '$14.49\\n-5%', '$12.49\\n-5%', '$8.49\\n$9.49', '$18.00\\n-5%', '$16.00\\n-5%', '$13.00\\n-5%', '$5.00\\n-5%', '$20.49\\n$26.00', '$12.00\\n-5%', '$26.00\\n-5%', '$8.00\\n-5%', '$7.49\\n$8.49', '$12.00\\n-5%', '$15.49\\n-5%']\n"
     ]
    }
   ],
   "source": [
    "print(entire_clothing_names[39],entire_prices[39])"
   ]
  },
  {
   "cell_type": "code",
   "execution_count": 53,
   "id": "2e65c58c",
   "metadata": {},
   "outputs": [
    {
     "name": "stdout",
     "output_type": "stream",
     "text": [
      "['SHEIN Unity Solid Form Fitted Bodysuit', 'Cherry Embroidery Lantern Sleeve Cardigan', 'Random Allover Floral Print Ruched Bust Ruffle Hem Cami Dress', 'SHEIN SXY Cut Out Waist Tube Bodycon Dress', 'Solid Drawstring Slant Pocket Sweatpants', 'Ring Linked Triangle Thong Bikini Swimsuit', 'Leather Look Zipper Fly Flare Leg Jeans', '3pack Random Tropical Print Halter Drawstring Side Bikini Swimsuit', 'O-ring Detail Textured Bikini Swimsuit', 'Letter Graphic Drop Shoulder Thermal Pullover', 'Solid Ribbed Crop Tank Top', 'Solid Ruched Side Pencil Hem Tank Dress', 'Ditsy Floral Ring Linked Triangle Bikini Swimsuit', 'Solid Ruched Stacked Skinny Jeans', 'SHEIN SXY Scoop Neck Unitard Jumpsuit', 'Contrast Binding Halter Triangle Bikini Top', 'SHEIN ICON Tie Backless Ruched Halter Jumpsuit', 'Plain Halter Micro Triangle Bikini Swimsuit', 'Heart Pattern Drop Shoulder Sweater', 'SHEIN SXY Lace Trim Hook & Eye Cami Top', 'SHEIN SXY Split Hem Tube Dress', 'SHEIN Modely Houndstooth Shoulder Pads Mock Neck Bodycon Dress', 'Shirred Bodice Allover Print Jumpsuit Without Belt', 'Zipper Fly Flap Pocket Cargo Jeans', 'Ditsy Floral Flounce Sleeve Blouse', 'Triangle Tie Side Bikini Swimsuit', 'Plain Knot Kimono', 'EMERY ROSE Crisscross Backless Wide Leg Cami Jumpsuit', 'Keyhole Back Halter Bodycon Dress', 'SHEIN SXY Solid Backless Crop Tank Top', 'Colorblock Contrast Collar Blouse', 'SHEIN Bell Sleeve Knot Front Crochet Kimono', 'Two Tone Contrast Binding Tie Backless Halter Triangle Bikini Top', 'Notch Neck Rib-knit Tank Top', 'Textured Knit Duster Cardigan', 'EMERY ROSE Color Block Lantern Sleeve Blouse', 'SHEIN SXY Lapel Neck Single Breasted Blazer', 'SHEIN BASICS Drop Shoulder Zipper Up Hooded Sweatshirt', 'SHEIN BASICS Solid Mock Neck Crop Top', 'DAZY Button Up Drop Shoulder Shirt', 'SHEIN ICON Solid PU Leather Crop Cami Top', 'SHEIN EZwear 3pcs Solid Backless Cami Romper', 'SHEIN MOD Twist Front Wide Strap Top', 'Rib Halter Triangle Tie Side Bikini Swimsuit', 'SHEIN EZwear Star Pattern Distressed Drop Shoulder Sweater', 'Allover Print Underwire Bikini Swimsuit', '4pcs Solid Ribbed Knit Bodysuit', 'Floral Print Off Shoulder Lantern Sleeve Knot Front Blouse', 'Plain Cut-out Bikini Swimsuit', 'Flutter Sleeve Belted Dress', 'SHEIN SXY Puff Sleeve Double Button Blazer & Pants', 'Car & Letter Graphic Drop Shoulder Tee', 'Sleeveless Zip Up Crop Vest Puffer Coat', 'Textured One Shoulder Bikini Swimsuit', 'ROMWE Slogan Cartoon Graphic Oversized Tee', 'SHEIN EZwear V Waist Flare Leg Pants', 'Sheer Asymmetrical Hem Cami Top', 'SHEIN ICON Ribbed Knit Crop Tank Top', 'Ditsy Floral Halter Triangle Bikini Swimsuit', 'SHEIN ICON Twist Front Cut Out Ruched Bodycon Dress', 'Solid Crisscross Tie Back Crop Top', 'EMERY ROSE Grid Print Notched Neckline Blouse', 'Two Tone Twist Front Crop Tank Top', 'SHEIN SXY Solid High Cut Zipper Bodysuit', 'SHEIN ICON Flap Pocket Side Cargo Pants', 'SHEIN EZwear Notched Neck Rib Knit Unitard Romper', 'Tank Top & Split Thigh Skirt', 'SHEIN EZwear Striped Print Crop Cami Top', 'Two Tone Tie Back Triangle Thong Bikini Swimsuit', 'Colorblock Pointelle Knit Drawstring Hooded Cardigan', 'Solid Tank Top', 'SHEIN BAE Square Neck Unitard Romper', 'Color Block Ribbed Knit Tank Top', 'Fluid Smocked Halter Triangle Bikini Swimsuit', 'Knot Waist Cover Up Skirt', 'SHEIN SXY Zipper Up Funnel Collar Winter Coat', 'Guipure Lace Panel Blouse', 'High Waist Ripped Raw Trim Denim Shorts', 'SHEIN ICON Boat Neck Crop Top', 'SHEIN MOD Ruched Square Neck Crop Top', 'SHEIN Tall Square Neck Lantern Sleeve Ruched Bodycon Dress', 'Floral Print Flounce Sleeve Blouse', 'Allover Floral Knot Split Thigh A-line Dress', 'Allover Print Notched Neck Bishop Sleeve Blouse', 'Colorblock Wrap Hem Belted Cami Dress', 'Solid Cut Out Side Tank Top', 'Striped Smocked Halter Triangle Bikini Top', 'Textured Underwire High Cut Bikini Swimsuit', 'Leopard Frill Trim Tie Side Bikini Swimsuit', 'SHEIN SXY Textured One Shoulder Cut Out Bodycon Dress', 'High Waist Bleach Wash Ripped Skinny Jeans', 'High Waist Patch Detail Raw Cut Flare Leg Jeans', 'Ditsy Floral Flounce Sleeve Blouse', 'Graphic Print Button Front Shirt', 'SHEIN EZwear Solid Cami Unitard Jumpsuit', 'SHEIN BAE Square Neck Asymmetrical Hem PU Tank Top', 'SHEIN BIZwear Solid Notch Neck Blazer', 'Ditsy Floral Twist Front Split Hem Dress', 'Solid Mock Neck Puff Sleeve Blouse', 'Allover Print High Waisted Bikini Swimsuit', 'Criss Cross Front Halter Top', 'SHEIN VCAY Ditsy Floral Draped Belted Cami Dress', 'Lantern Sleeve Keyhole Back Blouse', 'Open Front Kimono', 'SHEIN SXY Solid Textured Crop Tank Top', 'Dalmatian Print Layered Butterfly Sleeve Blouse', 'Plaid Shawl Collar Open Front Blazer', 'Glitter Triangle Tie Side Bikini Swimsuit', '90s Floral & Letter Graphic Crop Tank Top', 'SHEIN EZwear Drawstring Detail Super Crop Hoodie', 'Striped Textured Bandeau Bikini Swimsuit', 'EMERY ROSE Hidden Pocket Fold Pleated Detail Pinafore Jumpsuit Without Tee', 'Lace-up Front Backless Textured Crop Halter Top', 'Plain V Neck Bikini Swimsuit', 'SHEIN Unity Tie Back Hanky Hem Cami Top', 'SHEIN VCAY Color Block Stripe Pattern Crop Pointelle Knit Sweater', 'SHEIN PETITE Zipper Fly Seam Front Split Hem Flare Leg Pants', 'Two Tone Drop Shoulder Striped Trim Sweater', 'Gold Argyle Print Notched Neck Batwing Sleeve Blouse', 'SHEIN BAE Draped Cut Out Crisscross Tie Backless Satin Cami Dress']\n",
      "['$8.35\\n$9.00', '$19.00\\n-5%', '$17.00\\n-5%', '$9.00\\n$10.00', '$13.49\\n-5%', '$8.00\\n$9.00', '$22.49\\n-5%', '$12.69\\n$18.00', '$12.00\\n-5%', '$9.49\\n$11.00', '$8.49\\n$9.00', '$13.00\\n-5%', '$8.49\\n$9.49', '$23.49\\n-5%', '$15.00\\n-5%', '$5.49\\n$6.49', '$18.00\\n-5%', '$8.00\\n$9.00', '$20.00\\n-5%', '$14.49\\n-5%', '$11.00\\n-5%', '$5.75\\n$11.49', '$14.00\\n-5%', '$28.00\\n-5%', '$8.00\\n$9.00', '$8.49\\n$10.00', '$7.00\\n$7.49', '$14.00\\n-5%', '$13.00\\n-5%', '$5.49\\n$6.49', '$11.00\\n-5%', '$6.49\\n$7.49', '$7.00\\n$8.00', '$4.49\\n$5.00', '$18.00\\n-5%', '$9.00\\n$10.00', '$22.49\\n-5%', '$15.00\\n-5%', '$3.85\\n$4.00', '$18.00\\n-5%', '$4.00\\n-5%', '$18.00\\n-5%', '$5.49\\n$6.49', '$8.49\\n$9.49', '$10.75\\n$18.49', '$8.48\\n$11.00', '$25.49\\n-5%', '$13.00\\n-5%', '$11.00\\n-5%', '$9.98\\n$18.00', '$31.00\\n-5%', '$8.00\\n$9.49', '$17.00\\n-5%', '$11.00\\n-5%', '$10.49\\n$11.00', '$15.00\\n-5%', '$6.49\\n$7.49', '$5.00\\n-5%', '$8.49\\n$9.49', '$8.00\\n$9.00', '$5.49\\n$6.00', '$6.00\\n-5%', '$5.49\\n$6.49', '$9.49\\n$10.49', '$30.49\\n-5%', '$9.00\\n$10.00', '$13.00\\n-5%', '$4.00\\n-5%', '$11.00\\n-5%', '$20.49\\n-5%', '$5.49\\n$6.00', '$10.00\\n$11.49', '$5.49\\n$6.49', '$10.49\\n-5%', '$7.00\\n$7.49', '$26.49\\n-5%', '$7.00\\n$8.00', '$13.49\\n-5%', '$7.00\\n-5%', '$7.00\\n-5%', '$13.00\\n-5%', '$12.49\\n-5%', '$17.00\\n-5%', '$11.00\\n-5%', '$20.00\\n-5%', '$7.00\\n-5%', '$6.49\\n$7.49', '$12.00\\n-5%', '$10.49\\n-5%', '$14.00\\n-5%', '$16.49\\n$21.00', '$25.00\\n-5%', '$7.49\\n$8.49', '$8.49\\n$9.49', '$10.00\\n$12.00', '$5.49\\n$6.00', '$10.98\\n$13.00', '$15.00\\n-5%', '$12.49\\n-5%', '$12.00\\n-5%', '$10.49\\n-5%', '$8.00\\n$9.49', '$8.49\\n$9.49', '$10.49\\n-5%', '$7.00\\n-5%', '$7.00\\n$8.00', '$29.00\\n-5%', '$10.00\\n-5%', '$5.49\\n$6.00', '$9.49\\n$11.00', '$11.49\\n-5%', '$18.49\\n-5%', '$7.00\\n$8.00', '$11.00\\n-5%', '$4.00\\n-5%', '$15.00\\n-5%', '$17.00\\n-5%', '$19.00\\n-5%', '$8.00\\n$9.00', '$12.00\\n-5%']\n"
     ]
    }
   ],
   "source": [
    "import pandas as pd\n",
    "print(entire_clothing_names[0])\n",
    "print(entire_prices[0])"
   ]
  },
  {
   "cell_type": "code",
   "execution_count": 57,
   "id": "99298b1c",
   "metadata": {},
   "outputs": [],
   "source": []
  },
  {
   "cell_type": "code",
   "execution_count": 59,
   "id": "8c2e167b",
   "metadata": {},
   "outputs": [
    {
     "data": {
      "text/html": [
       "<div>\n",
       "<style scoped>\n",
       "    .dataframe tbody tr th:only-of-type {\n",
       "        vertical-align: middle;\n",
       "    }\n",
       "\n",
       "    .dataframe tbody tr th {\n",
       "        vertical-align: top;\n",
       "    }\n",
       "\n",
       "    .dataframe thead th {\n",
       "        text-align: right;\n",
       "    }\n",
       "</style>\n",
       "<table border=\"1\" class=\"dataframe\">\n",
       "  <thead>\n",
       "    <tr style=\"text-align: right;\">\n",
       "      <th></th>\n",
       "    </tr>\n",
       "  </thead>\n",
       "  <tbody>\n",
       "    <tr>\n",
       "      <th>Clothing_desc</th>\n",
       "    </tr>\n",
       "  </tbody>\n",
       "</table>\n",
       "</div>"
      ],
      "text/plain": [
       "Empty DataFrame\n",
       "Columns: []\n",
       "Index: [Clothing_desc]"
      ]
     },
     "execution_count": 59,
     "metadata": {},
     "output_type": "execute_result"
    }
   ],
   "source": []
  },
  {
   "cell_type": "code",
   "execution_count": 46,
   "id": "28800344",
   "metadata": {},
   "outputs": [],
   "source": [
    "entire_clothing_names.clear()\n",
    "entire_prices.clear()"
   ]
  },
  {
   "cell_type": "code",
   "execution_count": 54,
   "id": "707b2707",
   "metadata": {},
   "outputs": [],
   "source": [
    "copy_of_entire_clothing_names = entire_clothing_names.copy()\n",
    "copy_of_entire_prices = entire_prices.copy()"
   ]
  },
  {
   "cell_type": "code",
   "execution_count": 60,
   "id": "a6bdfda7",
   "metadata": {},
   "outputs": [],
   "source": [
    "#copy_of_entire_prices = sum(copy_of_entire_prices,[])\n",
    "copy_of_entire_clothing_names = sum(copy_of_entire_clothing_names,[])"
   ]
  },
  {
   "cell_type": "code",
   "execution_count": 58,
   "id": "0971e20f",
   "metadata": {},
   "outputs": [
    {
     "data": {
      "text/plain": [
       "4794"
      ]
     },
     "execution_count": 58,
     "metadata": {},
     "output_type": "execute_result"
    }
   ],
   "source": [
    "len(copy_of_entire_prices)"
   ]
  },
  {
   "cell_type": "code",
   "execution_count": 64,
   "id": "b1c177f8",
   "metadata": {},
   "outputs": [
    {
     "data": {
      "text/plain": [
       "4794"
      ]
     },
     "execution_count": 64,
     "metadata": {},
     "output_type": "execute_result"
    }
   ],
   "source": [
    "copy_of_entire_clothing_names.append('0')\n",
    "len(copy_of_entire_clothing_names)"
   ]
  },
  {
   "cell_type": "code",
   "execution_count": 65,
   "id": "a6863d98",
   "metadata": {},
   "outputs": [],
   "source": [
    "Shein_series = pd.Series(copy_of_entire_prices,index = copy_of_entire_clothing_names)"
   ]
  },
  {
   "cell_type": "code",
   "execution_count": 66,
   "id": "f169211d",
   "metadata": {},
   "outputs": [
    {
     "data": {
      "text/plain": [
       "SHEIN Unity Solid Form Fitted Bodysuit                              $8.35\\n$9.00\n",
       "Cherry Embroidery Lantern Sleeve Cardigan                            $19.00\\n-5%\n",
       "Random Allover Floral Print Ruched Bust Ruffle Hem Cami Dress        $17.00\\n-5%\n",
       "SHEIN SXY Cut Out Waist Tube Bodycon Dress                         $9.00\\n$10.00\n",
       "Solid Drawstring Slant Pocket Sweatpants                             $13.49\\n-5%\n",
       "                                                                       ...      \n",
       "Joyfunear Sequin Bodice Backless Mesh Cami Formal Evening Gowns      $26.00\\n-5%\n",
       "Rainbow And Slogan Graphic Tee                                        $8.00\\n-5%\n",
       "2pack Chiffon Knot Cover Up                                         $7.49\\n$8.49\n",
       "SHEIN BAE Solid Criss Cross Tie Backless Split Hem Dress             $12.00\\n-5%\n",
       "0                                                                    $15.49\\n-5%\n",
       "Length: 4794, dtype: object"
      ]
     },
     "execution_count": 66,
     "metadata": {},
     "output_type": "execute_result"
    }
   ],
   "source": [
    "Shein_series"
   ]
  },
  {
   "cell_type": "code",
   "execution_count": 68,
   "id": "b66ef352",
   "metadata": {},
   "outputs": [],
   "source": [
    "Shein_series.to_csv(r'C:\\Users\\Braydon\\Desktop\\Shein_Data\\Shein_Series.csv', index = True, header = False)"
   ]
  },
  {
   "cell_type": "code",
   "execution_count": null,
   "id": "cc52e918",
   "metadata": {},
   "outputs": [],
   "source": []
  }
 ],
 "metadata": {
  "kernelspec": {
   "display_name": "Python 3 (ipykernel)",
   "language": "python",
   "name": "python3"
  },
  "language_info": {
   "codemirror_mode": {
    "name": "ipython",
    "version": 3
   },
   "file_extension": ".py",
   "mimetype": "text/x-python",
   "name": "python",
   "nbconvert_exporter": "python",
   "pygments_lexer": "ipython3",
   "version": "3.9.7"
  }
 },
 "nbformat": 4,
 "nbformat_minor": 5
}
